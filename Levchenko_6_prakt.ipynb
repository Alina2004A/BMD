{
  "cells": [
    {
      "cell_type": "markdown",
      "metadata": {
        "id": "view-in-github",
        "colab_type": "text"
      },
      "source": [
        "<a href=\"https://colab.research.google.com/github/Alina2004A/BMD/blob/main/Levchenko_6_prakt.ipynb\" target=\"_parent\"><img src=\"https://colab.research.google.com/assets/colab-badge.svg\" alt=\"Open In Colab\"/></a>"
      ]
    },
    {
      "cell_type": "markdown",
      "metadata": {
        "id": "nVYjIYs6RrPC"
      },
      "source": [
        "<h1>6 практична</h1>\n",
        "<p><font size=10>Левченко БС-11</font></p>"
      ]
    },
    {
      "cell_type": "markdown",
      "metadata": {
        "id": "uzWnVaq1PU-l"
      },
      "source": [
        "# Завдання\n",
        "\n",
        "1. Обрати реальні дані з kaggle або сгенерувати випадкові дані. Дані мають відповідати вимогам викладеним вище. Формат даних:\n",
        "\n",
        "| Група 1 | Група 2  | \n",
        "| ------------- |--------- |\n",
        "| $k_{1}  $   | $k_{2}$   |\n",
        "| $...$   | $...$   |\n",
        "| $k_{1n}$   | $k_{2n}$   |\n",
        "\n",
        "2. Побудувати графік, що відображає розкид даних в групах. Приклад:\n",
        "![alt text](https://s3.amazonaws.com/libapps/accounts/2515/images/spss_paired-t_example_boxplot.PNG)\n",
        "\n",
        "3. Написати функції:\n",
        "* для оцінки зв'язку між групами за коефіцієнтом кореляції Пірсона. Функція має повертати значення коефіцієнту кореляції, значення ступеня свободи та результат оцінки значимості зв'зку (significant або not significant).\n",
        "\n",
        "* для визначення відмінності між групами за критерієм Стьюдента. Функція має повертати значення критерію Стьюдента,значення ступеня свободи та результат оцінки значимості зв'зку (significant або not significant). \n",
        "\n",
        "4. Перевірити розбіжність на між групами на даних з п. 1. \n",
        "\n",
        "5. Сформувати висновок про взаємозв'язок між групами та про їх розбіжність. "
      ]
    },
    {
      "cell_type": "markdown",
      "metadata": {
        "id": "WF_4xd9fWyB8"
      },
      "source": [
        "# Виконання\n",
        "\n",
        "1. Обрати реальні дані з kaggle або сгенерувати випадкові дані."
      ]
    },
    {
      "cell_type": "code",
      "execution_count": null,
      "metadata": {
        "id": "KXuEcGCQWyB8"
      },
      "outputs": [],
      "source": [
        "import seaborn as sns\n",
        "import matplotlib.pyplot as plt\n",
        "import numpy as np\n",
        "import pandas as pd"
      ]
    },
    {
      "cell_type": "code",
      "execution_count": null,
      "metadata": {
        "id": "cbe_HIKMWyB9",
        "outputId": "21f5f0f3-c068-4070-eac0-7dcbfca74883"
      },
      "outputs": [
        {
          "data": {
            "text/html": [
              "<div>\n",
              "<style scoped>\n",
              "    .dataframe tbody tr th:only-of-type {\n",
              "        vertical-align: middle;\n",
              "    }\n",
              "\n",
              "    .dataframe tbody tr th {\n",
              "        vertical-align: top;\n",
              "    }\n",
              "\n",
              "    .dataframe thead th {\n",
              "        text-align: right;\n",
              "    }\n",
              "</style>\n",
              "<table border=\"1\" class=\"dataframe\">\n",
              "  <thead>\n",
              "    <tr style=\"text-align: right;\">\n",
              "      <th></th>\n",
              "      <th>Група 1</th>\n",
              "      <th>Група 2</th>\n",
              "    </tr>\n",
              "  </thead>\n",
              "  <tbody>\n",
              "    <tr>\n",
              "      <th>0</th>\n",
              "      <td>4.729665</td>\n",
              "      <td>12.384418</td>\n",
              "    </tr>\n",
              "    <tr>\n",
              "      <th>1</th>\n",
              "      <td>5.029395</td>\n",
              "      <td>12.745346</td>\n",
              "    </tr>\n",
              "    <tr>\n",
              "      <th>2</th>\n",
              "      <td>4.713496</td>\n",
              "      <td>12.287362</td>\n",
              "    </tr>\n",
              "    <tr>\n",
              "      <th>3</th>\n",
              "      <td>5.629182</td>\n",
              "      <td>14.563409</td>\n",
              "    </tr>\n",
              "    <tr>\n",
              "      <th>4</th>\n",
              "      <td>5.246231</td>\n",
              "      <td>13.665957</td>\n",
              "    </tr>\n",
              "    <tr>\n",
              "      <th>5</th>\n",
              "      <td>3.804939</td>\n",
              "      <td>10.238391</td>\n",
              "    </tr>\n",
              "    <tr>\n",
              "      <th>6</th>\n",
              "      <td>5.355875</td>\n",
              "      <td>13.570848</td>\n",
              "    </tr>\n",
              "    <tr>\n",
              "      <th>7</th>\n",
              "      <td>3.873561</td>\n",
              "      <td>10.181903</td>\n",
              "    </tr>\n",
              "    <tr>\n",
              "      <th>8</th>\n",
              "      <td>4.758103</td>\n",
              "      <td>12.434459</td>\n",
              "    </tr>\n",
              "    <tr>\n",
              "      <th>9</th>\n",
              "      <td>5.040117</td>\n",
              "      <td>13.418406</td>\n",
              "    </tr>\n",
              "    <tr>\n",
              "      <th>10</th>\n",
              "      <td>4.705329</td>\n",
              "      <td>12.213073</td>\n",
              "    </tr>\n",
              "    <tr>\n",
              "      <th>11</th>\n",
              "      <td>5.242150</td>\n",
              "      <td>13.826864</td>\n",
              "    </tr>\n",
              "    <tr>\n",
              "      <th>12</th>\n",
              "      <td>4.963710</td>\n",
              "      <td>12.483427</td>\n",
              "    </tr>\n",
              "    <tr>\n",
              "      <th>13</th>\n",
              "      <td>5.392841</td>\n",
              "      <td>13.768121</td>\n",
              "    </tr>\n",
              "    <tr>\n",
              "      <th>14</th>\n",
              "      <td>4.883598</td>\n",
              "      <td>13.057713</td>\n",
              "    </tr>\n",
              "    <tr>\n",
              "      <th>15</th>\n",
              "      <td>5.114181</td>\n",
              "      <td>13.153001</td>\n",
              "    </tr>\n",
              "    <tr>\n",
              "      <th>16</th>\n",
              "      <td>4.032275</td>\n",
              "      <td>10.614486</td>\n",
              "    </tr>\n",
              "    <tr>\n",
              "      <th>17</th>\n",
              "      <td>4.767944</td>\n",
              "      <td>11.977218</td>\n",
              "    </tr>\n",
              "    <tr>\n",
              "      <th>18</th>\n",
              "      <td>5.557906</td>\n",
              "      <td>14.690842</td>\n",
              "    </tr>\n",
              "    <tr>\n",
              "      <th>19</th>\n",
              "      <td>5.738960</td>\n",
              "      <td>14.571351</td>\n",
              "    </tr>\n",
              "  </tbody>\n",
              "</table>\n",
              "</div>"
            ],
            "text/plain": [
              "     Група 1    Група 2\n",
              "0   4.729665  12.384418\n",
              "1   5.029395  12.745346\n",
              "2   4.713496  12.287362\n",
              "3   5.629182  14.563409\n",
              "4   5.246231  13.665957\n",
              "5   3.804939  10.238391\n",
              "6   5.355875  13.570848\n",
              "7   3.873561  10.181903\n",
              "8   4.758103  12.434459\n",
              "9   5.040117  13.418406\n",
              "10  4.705329  12.213073\n",
              "11  5.242150  13.826864\n",
              "12  4.963710  12.483427\n",
              "13  5.392841  13.768121\n",
              "14  4.883598  13.057713\n",
              "15  5.114181  13.153001\n",
              "16  4.032275  10.614486\n",
              "17  4.767944  11.977218\n",
              "18  5.557906  14.690842\n",
              "19  5.738960  14.571351"
            ]
          },
          "execution_count": 435,
          "metadata": {},
          "output_type": "execute_result"
        }
      ],
      "source": [
        "gr_1 = np.random.normal(5, 0.5, 20)\n",
        "diff = lambda i:  np.random.normal(1, 0.25, 20) + 2.4 * i\n",
        "gr_2 = diff(gr_1)\n",
        "data = pd.DataFrame({\"Група 1\": gr_1, \"Група 2\": gr_2})\n",
        "data"
      ]
    },
    {
      "cell_type": "markdown",
      "metadata": {
        "id": "jpzm4EV8WyB9"
      },
      "source": [
        "2. Побудувати графік, що відображає розкид даних в групах."
      ]
    },
    {
      "cell_type": "code",
      "execution_count": null,
      "metadata": {
        "id": "bf91vW6HWyB-",
        "outputId": "6b081e6a-b90a-41c6-d007-fd3f76c5ce70"
      },
      "outputs": [
        {
          "data": {
            "image/png": "[encoded data removed]",
            "text/plain": [
              "<Figure size 1080x360 with 1 Axes>"
            ]
          },
          "metadata": {
            "needs_background": "light"
          },
          "output_type": "display_data"
        }
      ],
      "source": [
        "fig, ax = plt.subplots(figsize=(15,5))\n",
        "fig =  sns.boxplot(orient = \"h\",data = data, palette=\"pastel\")"
      ]
    },
    {
      "cell_type": "markdown",
      "metadata": {
        "id": "9bVq-5LRWyB-"
      },
      "source": [
        "3. Написати функції:\n",
        "* для оцінки зв'язку між групами за коефіцієнтом кореляції Пірсона. Функція має повертати значення коефіцієнту кореляції, значення ступеня свободи та результат оцінки значимості зв'зку (significant або not significant)."
      ]
    },
    {
      "cell_type": "code",
      "execution_count": null,
      "metadata": {
        "id": "DGLDx7dOWyB-"
      },
      "outputs": [],
      "source": [
        "def Cor_mark(r):\n",
        "    if r > 0 and r <= 0.3:\n",
        "            return \"very low\"\n",
        "    elif r > 0.3 and r <= 0.5:\n",
        "            return \"low\"\n",
        "    elif r > 0.5 and r <= 0.7:\n",
        "            return \"medium\"\n",
        "    elif r > 0.7 and r <= 0.9:\n",
        "            return \"high\"\n",
        "    elif r > 0.9 and r <= 1:\n",
        "            return \"very high\""
      ]
    },
    {
      "cell_type": "code",
      "execution_count": null,
      "metadata": {
        "id": "d7MgHJX-WyB-"
      },
      "outputs": [],
      "source": [
        "def Cor_pirson(data):\n",
        "    n = len(data)\n",
        "    x, y = data.iloc[:,0], data.iloc[:,1]\n",
        "    \n",
        "    r1 = n * np.sum(x*y) - np.sum(x) * np.sum(y)\n",
        "    r2 = (n * np.sum(x**2) - np.sum(x)**2) * (n * np.sum(y**2) - np.sum(y)**2)\n",
        "    r = r1 / np.sqrt(r2)\n",
        "    r = np.round(abs(r), 3)\n",
        "    \n",
        "    df = n - 2\n",
        "    table = pd.read_excel(\"Таблиця критичних значень кореляційного аналізу.xlsx\")\n",
        "    critical_value = table.loc[df - 1, 0.05]\n",
        "    mark = Cor_mark(r)\n",
        "    \n",
        "    print(\"Відповідь:\")\n",
        "    if r > critical_value:\n",
        "        sign = \"significant\"\n",
        "        print(mark)\n",
        "    else:\n",
        "        sign = \"not significant\"\n",
        "        print(mark)\n",
        "    return r, df, sign"
      ]
    },
    {
      "cell_type": "markdown",
      "metadata": {
        "id": "OcFOB-eqWyB-"
      },
      "source": [
        "* для визначення відмінності між групами за критерієм Стьюдента. Функція має повертати значення критерію Стьюдента,значення ступеня свободи та результат оцінки значимості зв'зку (significant або not significant). "
      ]
    },
    {
      "cell_type": "code",
      "execution_count": null,
      "metadata": {
        "id": "1N8KD2ZbWyB_"
      },
      "outputs": [],
      "source": [
        "def Student(data):\n",
        "    n = len(data)\n",
        "    x, y = data.iloc[:,0], data.iloc[:,1]\n",
        "    \n",
        "    res = x - y\n",
        "    t_emp = (np.mean(res) / np.std(res)) * np.sqrt(n)\n",
        "    t_emp = np.round(abs(t_emp), 3)\n",
        "    \n",
        "    df = n - 1\n",
        "    table = pd.read_excel(\"Таблица критических значений для парного критерия.xlsx\")\n",
        "    t_critical = table.loc[df - 1, 0.05]\n",
        "    \n",
        "    print(\"Відповідь:\")\n",
        "    if t_emp > t_critical:\n",
        "        sign = \"significant\"\n",
        "    else:\n",
        "        sign = \"not significant\"\n",
        "    return t_emp, df, sign"
      ]
    },
    {
      "cell_type": "markdown",
      "metadata": {
        "id": "UVVHLcHNWyB_"
      },
      "source": [
        "4. Перевірити розбіжність на між групами на даних з п. 1. "
      ]
    },
    {
      "cell_type": "markdown",
      "metadata": {
        "id": "uxaNuA2nWyB_"
      },
      "source": [
        "* За коефіцієнтом кореляції Пірсона:"
      ]
    },
    {
      "cell_type": "code",
      "execution_count": null,
      "metadata": {
        "id": "xiIFrNSaWyB_",
        "outputId": "f5666173-e26f-4b49-b46d-ef74edd01066"
      },
      "outputs": [
        {
          "name": "stdout",
          "output_type": "stream",
          "text": [
            "Відповідь:\n",
            "very high\n"
          ]
        },
        {
          "data": {
            "text/plain": [
              "(0.984, 18, 'significant')"
            ]
          },
          "execution_count": 440,
          "metadata": {},
          "output_type": "execute_result"
        }
      ],
      "source": [
        "res1 = Cor_pirson(data)\n",
        "res1"
      ]
    },
    {
      "cell_type": "markdown",
      "metadata": {
        "id": "9JJhGsNKWyB_"
      },
      "source": [
        "* За критерієм Стьюдента:"
      ]
    },
    {
      "cell_type": "code",
      "execution_count": null,
      "metadata": {
        "id": "dhbenpvKWyB_",
        "outputId": "fce1611b-5890-444e-e98f-ee07b2dd5f9b"
      },
      "outputs": [
        {
          "name": "stdout",
          "output_type": "stream",
          "text": [
            "Відповідь:\n"
          ]
        },
        {
          "data": {
            "text/plain": [
              "(44.904, 19, 'significant')"
            ]
          },
          "execution_count": 441,
          "metadata": {},
          "output_type": "execute_result"
        }
      ],
      "source": [
        "res2 = Student(data)\n",
        "res2"
      ]
    },
    {
      "cell_type": "markdown",
      "metadata": {
        "id": "Iwmi04AyWyB_"
      },
      "source": [
        "5. Сформувати висновок про взаємозв'язок між групами та про їх розбіжність. "
      ]
    },
    {
      "cell_type": "code",
      "execution_count": null,
      "metadata": {
        "id": "nkpmcpUvWyCA",
        "outputId": "d2ea1652-d374-41d1-f536-551e01c2cf3f"
      },
      "outputs": [
        {
          "data": {
            "text/html": [
              "<div>\n",
              "<style scoped>\n",
              "    .dataframe tbody tr th:only-of-type {\n",
              "        vertical-align: middle;\n",
              "    }\n",
              "\n",
              "    .dataframe tbody tr th {\n",
              "        vertical-align: top;\n",
              "    }\n",
              "\n",
              "    .dataframe thead th {\n",
              "        text-align: right;\n",
              "    }\n",
              "</style>\n",
              "<table border=\"1\" class=\"dataframe\">\n",
              "  <thead>\n",
              "    <tr style=\"text-align: right;\">\n",
              "      <th></th>\n",
              "      <th>Критерій Пірсона</th>\n",
              "      <th>Критерій Стьюдента</th>\n",
              "    </tr>\n",
              "  </thead>\n",
              "  <tbody>\n",
              "    <tr>\n",
              "      <th>Значення</th>\n",
              "      <td>0.984</td>\n",
              "      <td>44.904</td>\n",
              "    </tr>\n",
              "    <tr>\n",
              "      <th>Ступінь свободи</th>\n",
              "      <td>18</td>\n",
              "      <td>19</td>\n",
              "    </tr>\n",
              "    <tr>\n",
              "      <th>Оцінка значимості зв'язку</th>\n",
              "      <td>significant</td>\n",
              "      <td>significant</td>\n",
              "    </tr>\n",
              "  </tbody>\n",
              "</table>\n",
              "</div>"
            ],
            "text/plain": [
              "                          Критерій Пірсона Критерій Стьюдента\n",
              "Значення                             0.984             44.904\n",
              "Ступінь свободи                         18                 19\n",
              "Оцінка значимості зв'язку      significant        significant"
            ]
          },
          "execution_count": 442,
          "metadata": {},
          "output_type": "execute_result"
        }
      ],
      "source": [
        "table = pd.DataFrame({\n",
        "    \"Критерій Пірсона\":res1,\n",
        "    \"Критерій Стьюдента\":res2\n",
        "}, index = [\"Значення\", \"Ступінь свободи\", \"Оцінка значимості зв'язку\"])\n",
        "table"
      ]
    },
    {
      "cell_type": "code",
      "execution_count": null,
      "metadata": {
        "id": "sD33X2X8WyCA",
        "outputId": "22f41e76-2c75-491e-af00-c5495a2ec967"
      },
      "outputs": [
        {
          "name": "stdout",
          "output_type": "stream",
          "text": [
            "Відповідь:\n",
            "Корреляціонний зв'язок між ними статистично значимий\n",
            "Парні групи рівні\n"
          ]
        }
      ],
      "source": [
        "print(\"Відповідь:\")\n",
        "if(table.iloc[2,0] == \"significant\"):\n",
        "    print(\"Корреляціонний зв'язок між ними статистично значимий\")\n",
        "else:\n",
        "    print(\"Корреляціонний зв'язок між ними відсутній\")\n",
        "          \n",
        "if(table.iloc[2,1] == \"significant\"):\n",
        "    print(\"Парні групи рівні\")\n",
        "else:\n",
        "    print(\"парні групи відмінні\")"
      ]
    },
    {
      "cell_type": "code",
      "execution_count": null,
      "metadata": {
        "id": "zghp-RD-WyCA"
      },
      "outputs": [],
      "source": []
    },
    {
      "cell_type": "code",
      "execution_count": null,
      "metadata": {
        "id": "DVqOKoIRWyCA"
      },
      "outputs": [],
      "source": []
    }
  ],
  "metadata": {
    "colab": {
      "provenance": [],
      "include_colab_link": true
    },
    "kernelspec": {
      "display_name": "Python 3 (ipykernel)",
      "language": "python",
      "name": "python3"
    },
    "language_info": {
      "codemirror_mode": {
        "name": "ipython",
        "version": 3
      },
      "file_extension": ".py",
      "mimetype": "text/x-python",
      "name": "python",
      "nbconvert_exporter": "python",
      "pygments_lexer": "ipython3",
      "version": "3.9.7"
    }
  },
  "nbformat": 4,
  "nbformat_minor": 0
}