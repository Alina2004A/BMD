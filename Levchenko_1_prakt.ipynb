{
  "cells": [
    {
      "cell_type": "markdown",
      "metadata": {
        "id": "view-in-github",
        "colab_type": "text"
      },
      "source": [
        "<a href=\"https://colab.research.google.com/github/Alina2004A/BMD/blob/main/Levchenko_1_prakt.ipynb\" target=\"_parent\"><img src=\"https://colab.research.google.com/assets/colab-badge.svg\" alt=\"Open In Colab\"/></a>"
      ]
    },
    {
      "cell_type": "markdown",
      "id": "d944e103",
      "metadata": {
        "id": "d944e103"
      },
      "source": [
        "<h1>1 практична</h1>\n",
        "<p><font size=10>Левченко БС-11</font></p>\n"
      ]
    },
    {
      "cell_type": "markdown",
      "id": "b47610f9",
      "metadata": {
        "id": "b47610f9"
      },
      "source": [
        "1. Введення даних вручну"
      ]
    },
    {
      "cell_type": "code",
      "execution_count": null,
      "id": "103ff6b5",
      "metadata": {
        "id": "103ff6b5"
      },
      "outputs": [],
      "source": [
        "import pandas as pd"
      ]
    },
    {
      "cell_type": "code",
      "execution_count": null,
      "id": "c317f215",
      "metadata": {
        "id": "c317f215",
        "outputId": "cd232a76-7974-4707-d68b-93c7158437a9"
      },
      "outputs": [
        {
          "data": {
            "text/html": [
              "<div>\n",
              "<style scoped>\n",
              "    .dataframe tbody tr th:only-of-type {\n",
              "        vertical-align: middle;\n",
              "    }\n",
              "\n",
              "    .dataframe tbody tr th {\n",
              "        vertical-align: top;\n",
              "    }\n",
              "\n",
              "    .dataframe thead th {\n",
              "        text-align: right;\n",
              "    }\n",
              "</style>\n",
              "<table border=\"1\" class=\"dataframe\">\n",
              "  <thead>\n",
              "    <tr style=\"text-align: right;\">\n",
              "      <th></th>\n",
              "      <th>Name</th>\n",
              "      <th>Place of origin</th>\n",
              "      <th>Mass(tonnes)</th>\n",
              "      <th>Height(m)</th>\n",
              "      <th>Width(m)</th>\n",
              "      <th>Maximum Speed(km/h)</th>\n",
              "    </tr>\n",
              "  </thead>\n",
              "  <tbody>\n",
              "    <tr>\n",
              "      <th>0</th>\n",
              "      <td>T-84 Oplot</td>\n",
              "      <td>Ukraine</td>\n",
              "      <td>46</td>\n",
              "      <td>2.215</td>\n",
              "      <td>3.775</td>\n",
              "      <td>70</td>\n",
              "    </tr>\n",
              "    <tr>\n",
              "      <th>1</th>\n",
              "      <td>Leopard 2</td>\n",
              "      <td>Germany</td>\n",
              "      <td>66</td>\n",
              "      <td>3.000</td>\n",
              "      <td>3.750</td>\n",
              "      <td>70</td>\n",
              "    </tr>\n",
              "    <tr>\n",
              "      <th>2</th>\n",
              "      <td>M1 Abrams</td>\n",
              "      <td>USA</td>\n",
              "      <td>60</td>\n",
              "      <td>2.440</td>\n",
              "      <td>3.660</td>\n",
              "      <td>59</td>\n",
              "    </tr>\n",
              "    <tr>\n",
              "      <th>3</th>\n",
              "      <td>FV 4034 Challenger 2</td>\n",
              "      <td>United Kingdom</td>\n",
              "      <td>64</td>\n",
              "      <td>2.490</td>\n",
              "      <td>2.490</td>\n",
              "      <td>67</td>\n",
              "    </tr>\n",
              "  </tbody>\n",
              "</table>\n",
              "</div>"
            ],
            "text/plain": [
              "                   Name Place of origin  Mass(tonnes)  Height(m)  Width(m)  \\\n",
              "0            T-84 Oplot         Ukraine            46      2.215     3.775   \n",
              "1             Leopard 2         Germany            66      3.000     3.750   \n",
              "2             M1 Abrams             USA            60      2.440     3.660   \n",
              "3  FV 4034 Challenger 2  United Kingdom            64      2.490     2.490   \n",
              "\n",
              "   Maximum Speed(km/h)  \n",
              "0                   70  \n",
              "1                   70  \n",
              "2                   59  \n",
              "3                   67  "
            ]
          },
          "execution_count": 5,
          "metadata": {},
          "output_type": "execute_result"
        }
      ],
      "source": [
        "my_df = pd.DataFrame(\n",
        "{\n",
        "   \"Name\" : ['T-84 Oplot','Leopard 2','M1 Abrams','FV 4034 Challenger 2'],\n",
        "   \"Place of origin\": ['Ukraine','Germany','USA','United Kingdom'],\n",
        "   \"Mass (tonnes)\": [46,66,60,64],\n",
        "   \"Height (m)\": [2.215,3.0,2.44,2.49],\n",
        "   \"Width (m)\": [3.775,3.75,3.66,2.49],\n",
        "   \"Maximum Speed (km/h)\": [70,70,59,67]\n",
        "})\n",
        "my_df"
      ]
    },
    {
      "cell_type": "markdown",
      "id": "056c3c61",
      "metadata": {
        "id": "056c3c61"
      },
      "source": [
        "2.1. Завантаження даних з вказанням повного шляху до файлу."
      ]
    },
    {
      "cell_type": "code",
      "execution_count": null,
      "id": "5cd25574",
      "metadata": {
        "id": "5cd25574",
        "outputId": "245d1b2d-8e92-4a41-bcf5-cb77b1b9b865"
      },
      "outputs": [
        {
          "name": "stdout",
          "output_type": "stream",
          "text": [
            "<class 'pandas.core.frame.DataFrame'>\n"
          ]
        }
      ],
      "source": [
        "path = \"/Users/Пользователь/Desktop/fruitvegprices-2017_2022.csv\"\n",
        "data = pd.read_csv(path, encoding = 'utf-8')\n",
        "print(type(data))"
      ]
    },
    {
      "cell_type": "markdown",
      "source": [
        "2.2. Завантаження даних, що розміщений в робочій директорії."
      ],
      "metadata": {
        "id": "rxacrjwpLyY_"
      },
      "id": "rxacrjwpLyY_"
    },
    {
      "cell_type": "code",
      "execution_count": null,
      "id": "61c26c62",
      "metadata": {
        "id": "61c26c62",
        "outputId": "4d7c1fa1-4fca-451d-ffe8-f327ce0f670a"
      },
      "outputs": [
        {
          "name": "stdout",
          "output_type": "stream",
          "text": [
            "The directory we are working in is: C:\\Users\\Пользователь\\Desktop\\jupyter notebook\n"
          ]
        }
      ],
      "source": [
        "import os\n",
        "print(\"The directory we are working in is: {}\".format(os.getcwd()))"
      ]
    },
    {
      "cell_type": "code",
      "execution_count": null,
      "id": "cc3a8771",
      "metadata": {
        "id": "cc3a8771",
        "outputId": "e4c7d211-30a1-4cd7-9f20-1207f7084aac"
      },
      "outputs": [
        {
          "name": "stdout",
          "output_type": "stream",
          "text": [
            "<class 'pandas.core.frame.DataFrame'>\n"
          ]
        }
      ],
      "source": [
        "data = pd.read_csv(\"fruitvegprices-2017_2022.csv\")\n",
        "print(type(data))"
      ]
    },
    {
      "cell_type": "markdown",
      "id": "1029df7a",
      "metadata": {
        "id": "1029df7a"
      },
      "source": [
        "3. Відобразимо завантажені дані."
      ]
    },
    {
      "cell_type": "code",
      "execution_count": null,
      "id": "f7c2eade",
      "metadata": {
        "scrolled": true,
        "id": "f7c2eade",
        "outputId": "e9edc949-93a0-4143-8a2d-6db6ca6936ca"
      },
      "outputs": [
        {
          "data": {
            "text/html": [
              "<div>\n",
              "<style scoped>\n",
              "    .dataframe tbody tr th:only-of-type {\n",
              "        vertical-align: middle;\n",
              "    }\n",
              "\n",
              "    .dataframe tbody tr th {\n",
              "        vertical-align: top;\n",
              "    }\n",
              "\n",
              "    .dataframe thead th {\n",
              "        text-align: right;\n",
              "    }\n",
              "</style>\n",
              "<table border=\"1\" class=\"dataframe\">\n",
              "  <thead>\n",
              "    <tr style=\"text-align: right;\">\n",
              "      <th></th>\n",
              "      <th>category</th>\n",
              "      <th>item</th>\n",
              "      <th>variety</th>\n",
              "      <th>date</th>\n",
              "      <th>price</th>\n",
              "      <th>unit</th>\n",
              "    </tr>\n",
              "  </thead>\n",
              "  <tbody>\n",
              "    <tr>\n",
              "      <th>0</th>\n",
              "      <td>fruit</td>\n",
              "      <td>apples</td>\n",
              "      <td>bramleys_seedling</td>\n",
              "      <td>2022-03-11</td>\n",
              "      <td>2.05</td>\n",
              "      <td>kg</td>\n",
              "    </tr>\n",
              "    <tr>\n",
              "      <th>1</th>\n",
              "      <td>fruit</td>\n",
              "      <td>apples</td>\n",
              "      <td>coxs_orange_group</td>\n",
              "      <td>2022-03-11</td>\n",
              "      <td>1.22</td>\n",
              "      <td>kg</td>\n",
              "    </tr>\n",
              "    <tr>\n",
              "      <th>2</th>\n",
              "      <td>fruit</td>\n",
              "      <td>apples</td>\n",
              "      <td>egremont_russet</td>\n",
              "      <td>2022-03-11</td>\n",
              "      <td>1.14</td>\n",
              "      <td>kg</td>\n",
              "    </tr>\n",
              "    <tr>\n",
              "      <th>3</th>\n",
              "      <td>fruit</td>\n",
              "      <td>apples</td>\n",
              "      <td>braeburn</td>\n",
              "      <td>2022-03-11</td>\n",
              "      <td>1.05</td>\n",
              "      <td>kg</td>\n",
              "    </tr>\n",
              "    <tr>\n",
              "      <th>4</th>\n",
              "      <td>fruit</td>\n",
              "      <td>apples</td>\n",
              "      <td>gala</td>\n",
              "      <td>2022-03-11</td>\n",
              "      <td>1.03</td>\n",
              "      <td>kg</td>\n",
              "    </tr>\n",
              "    <tr>\n",
              "      <th>...</th>\n",
              "      <td>...</td>\n",
              "      <td>...</td>\n",
              "      <td>...</td>\n",
              "      <td>...</td>\n",
              "      <td>...</td>\n",
              "      <td>...</td>\n",
              "    </tr>\n",
              "    <tr>\n",
              "      <th>9642</th>\n",
              "      <td>cut_flowers</td>\n",
              "      <td>alstromeria</td>\n",
              "      <td>indoor</td>\n",
              "      <td>2017-11-03</td>\n",
              "      <td>0.27</td>\n",
              "      <td>stem</td>\n",
              "    </tr>\n",
              "    <tr>\n",
              "      <th>9643</th>\n",
              "      <td>cut_flowers</td>\n",
              "      <td>chrysanthemum</td>\n",
              "      <td>indoor_spray</td>\n",
              "      <td>2017-11-03</td>\n",
              "      <td>0.22</td>\n",
              "      <td>stem</td>\n",
              "    </tr>\n",
              "    <tr>\n",
              "      <th>9644</th>\n",
              "      <td>cut_flowers</td>\n",
              "      <td>lillies</td>\n",
              "      <td>oriental</td>\n",
              "      <td>2017-11-03</td>\n",
              "      <td>0.70</td>\n",
              "      <td>stem</td>\n",
              "    </tr>\n",
              "    <tr>\n",
              "      <th>9645</th>\n",
              "      <td>cut_flowers</td>\n",
              "      <td>narcissus</td>\n",
              "      <td>indoor</td>\n",
              "      <td>2017-11-03</td>\n",
              "      <td>0.06</td>\n",
              "      <td>stem</td>\n",
              "    </tr>\n",
              "    <tr>\n",
              "      <th>9646</th>\n",
              "      <td>pot_plants</td>\n",
              "      <td>cyclamen</td>\n",
              "      <td>13_cm</td>\n",
              "      <td>2017-11-03</td>\n",
              "      <td>0.75</td>\n",
              "      <td>unit</td>\n",
              "    </tr>\n",
              "  </tbody>\n",
              "</table>\n",
              "<p>9647 rows × 6 columns</p>\n",
              "</div>"
            ],
            "text/plain": [
              "         category           item            variety        date  price  unit\n",
              "0           fruit         apples  bramleys_seedling  2022-03-11   2.05    kg\n",
              "1           fruit         apples  coxs_orange_group  2022-03-11   1.22    kg\n",
              "2           fruit         apples    egremont_russet  2022-03-11   1.14    kg\n",
              "3           fruit         apples           braeburn  2022-03-11   1.05    kg\n",
              "4           fruit         apples               gala  2022-03-11   1.03    kg\n",
              "...           ...            ...                ...         ...    ...   ...\n",
              "9642  cut_flowers    alstromeria             indoor  2017-11-03   0.27  stem\n",
              "9643  cut_flowers  chrysanthemum       indoor_spray  2017-11-03   0.22  stem\n",
              "9644  cut_flowers        lillies           oriental  2017-11-03   0.70  stem\n",
              "9645  cut_flowers      narcissus             indoor  2017-11-03   0.06  stem\n",
              "9646   pot_plants       cyclamen              13_cm  2017-11-03   0.75  unit\n",
              "\n",
              "[9647 rows x 6 columns]"
            ]
          },
          "execution_count": 15,
          "metadata": {},
          "output_type": "execute_result"
        }
      ],
      "source": [
        "data"
      ]
    },
    {
      "cell_type": "markdown",
      "id": "dacb80e8",
      "metadata": {
        "id": "dacb80e8"
      },
      "source": [
        "4. Введемо запит на відображення кількості стовпців та рядків (спостережень)."
      ]
    },
    {
      "cell_type": "code",
      "execution_count": null,
      "id": "6ad7fba3",
      "metadata": {
        "scrolled": true,
        "id": "6ad7fba3",
        "outputId": "66a5e8db-e6b3-4fca-8650-71e1ac20257e"
      },
      "outputs": [
        {
          "data": {
            "text/plain": [
              "(9647, 6)"
            ]
          },
          "execution_count": 16,
          "metadata": {},
          "output_type": "execute_result"
        }
      ],
      "source": [
        "data.shape"
      ]
    },
    {
      "cell_type": "markdown",
      "id": "81fc749a",
      "metadata": {
        "id": "81fc749a"
      },
      "source": [
        "5. Відобразимо 5 перших та 5 останніх рядків, використовуючи функції head та tail."
      ]
    },
    {
      "cell_type": "code",
      "execution_count": null,
      "id": "44839bb3",
      "metadata": {
        "id": "44839bb3",
        "outputId": "5ffbc460-0066-4aee-c70a-89a3bb47cb06"
      },
      "outputs": [
        {
          "data": {
            "text/html": [
              "<div>\n",
              "<style scoped>\n",
              "    .dataframe tbody tr th:only-of-type {\n",
              "        vertical-align: middle;\n",
              "    }\n",
              "\n",
              "    .dataframe tbody tr th {\n",
              "        vertical-align: top;\n",
              "    }\n",
              "\n",
              "    .dataframe thead th {\n",
              "        text-align: right;\n",
              "    }\n",
              "</style>\n",
              "<table border=\"1\" class=\"dataframe\">\n",
              "  <thead>\n",
              "    <tr style=\"text-align: right;\">\n",
              "      <th></th>\n",
              "      <th>category</th>\n",
              "      <th>item</th>\n",
              "      <th>variety</th>\n",
              "      <th>date</th>\n",
              "      <th>price</th>\n",
              "      <th>unit</th>\n",
              "    </tr>\n",
              "  </thead>\n",
              "  <tbody>\n",
              "    <tr>\n",
              "      <th>0</th>\n",
              "      <td>fruit</td>\n",
              "      <td>apples</td>\n",
              "      <td>bramleys_seedling</td>\n",
              "      <td>2022-03-11</td>\n",
              "      <td>2.05</td>\n",
              "      <td>kg</td>\n",
              "    </tr>\n",
              "    <tr>\n",
              "      <th>1</th>\n",
              "      <td>fruit</td>\n",
              "      <td>apples</td>\n",
              "      <td>coxs_orange_group</td>\n",
              "      <td>2022-03-11</td>\n",
              "      <td>1.22</td>\n",
              "      <td>kg</td>\n",
              "    </tr>\n",
              "    <tr>\n",
              "      <th>2</th>\n",
              "      <td>fruit</td>\n",
              "      <td>apples</td>\n",
              "      <td>egremont_russet</td>\n",
              "      <td>2022-03-11</td>\n",
              "      <td>1.14</td>\n",
              "      <td>kg</td>\n",
              "    </tr>\n",
              "    <tr>\n",
              "      <th>3</th>\n",
              "      <td>fruit</td>\n",
              "      <td>apples</td>\n",
              "      <td>braeburn</td>\n",
              "      <td>2022-03-11</td>\n",
              "      <td>1.05</td>\n",
              "      <td>kg</td>\n",
              "    </tr>\n",
              "    <tr>\n",
              "      <th>4</th>\n",
              "      <td>fruit</td>\n",
              "      <td>apples</td>\n",
              "      <td>gala</td>\n",
              "      <td>2022-03-11</td>\n",
              "      <td>1.03</td>\n",
              "      <td>kg</td>\n",
              "    </tr>\n",
              "  </tbody>\n",
              "</table>\n",
              "</div>"
            ],
            "text/plain": [
              "  category    item            variety        date  price unit\n",
              "0    fruit  apples  bramleys_seedling  2022-03-11   2.05   kg\n",
              "1    fruit  apples  coxs_orange_group  2022-03-11   1.22   kg\n",
              "2    fruit  apples    egremont_russet  2022-03-11   1.14   kg\n",
              "3    fruit  apples           braeburn  2022-03-11   1.05   kg\n",
              "4    fruit  apples               gala  2022-03-11   1.03   kg"
            ]
          },
          "execution_count": 17,
          "metadata": {},
          "output_type": "execute_result"
        }
      ],
      "source": [
        "data.head()"
      ]
    },
    {
      "cell_type": "code",
      "execution_count": null,
      "id": "d70af643",
      "metadata": {
        "id": "d70af643",
        "outputId": "ee0b9c01-d4e3-4a53-aaf7-78ae4c8b7b50"
      },
      "outputs": [
        {
          "data": {
            "text/html": [
              "<div>\n",
              "<style scoped>\n",
              "    .dataframe tbody tr th:only-of-type {\n",
              "        vertical-align: middle;\n",
              "    }\n",
              "\n",
              "    .dataframe tbody tr th {\n",
              "        vertical-align: top;\n",
              "    }\n",
              "\n",
              "    .dataframe thead th {\n",
              "        text-align: right;\n",
              "    }\n",
              "</style>\n",
              "<table border=\"1\" class=\"dataframe\">\n",
              "  <thead>\n",
              "    <tr style=\"text-align: right;\">\n",
              "      <th></th>\n",
              "      <th>category</th>\n",
              "      <th>item</th>\n",
              "      <th>variety</th>\n",
              "      <th>date</th>\n",
              "      <th>price</th>\n",
              "      <th>unit</th>\n",
              "    </tr>\n",
              "  </thead>\n",
              "  <tbody>\n",
              "    <tr>\n",
              "      <th>9642</th>\n",
              "      <td>cut_flowers</td>\n",
              "      <td>alstromeria</td>\n",
              "      <td>indoor</td>\n",
              "      <td>2017-11-03</td>\n",
              "      <td>0.27</td>\n",
              "      <td>stem</td>\n",
              "    </tr>\n",
              "    <tr>\n",
              "      <th>9643</th>\n",
              "      <td>cut_flowers</td>\n",
              "      <td>chrysanthemum</td>\n",
              "      <td>indoor_spray</td>\n",
              "      <td>2017-11-03</td>\n",
              "      <td>0.22</td>\n",
              "      <td>stem</td>\n",
              "    </tr>\n",
              "    <tr>\n",
              "      <th>9644</th>\n",
              "      <td>cut_flowers</td>\n",
              "      <td>lillies</td>\n",
              "      <td>oriental</td>\n",
              "      <td>2017-11-03</td>\n",
              "      <td>0.70</td>\n",
              "      <td>stem</td>\n",
              "    </tr>\n",
              "    <tr>\n",
              "      <th>9645</th>\n",
              "      <td>cut_flowers</td>\n",
              "      <td>narcissus</td>\n",
              "      <td>indoor</td>\n",
              "      <td>2017-11-03</td>\n",
              "      <td>0.06</td>\n",
              "      <td>stem</td>\n",
              "    </tr>\n",
              "    <tr>\n",
              "      <th>9646</th>\n",
              "      <td>pot_plants</td>\n",
              "      <td>cyclamen</td>\n",
              "      <td>13_cm</td>\n",
              "      <td>2017-11-03</td>\n",
              "      <td>0.75</td>\n",
              "      <td>unit</td>\n",
              "    </tr>\n",
              "  </tbody>\n",
              "</table>\n",
              "</div>"
            ],
            "text/plain": [
              "         category           item       variety        date  price  unit\n",
              "9642  cut_flowers    alstromeria        indoor  2017-11-03   0.27  stem\n",
              "9643  cut_flowers  chrysanthemum  indoor_spray  2017-11-03   0.22  stem\n",
              "9644  cut_flowers        lillies      oriental  2017-11-03   0.70  stem\n",
              "9645  cut_flowers      narcissus        indoor  2017-11-03   0.06  stem\n",
              "9646   pot_plants       cyclamen         13_cm  2017-11-03   0.75  unit"
            ]
          },
          "execution_count": 18,
          "metadata": {},
          "output_type": "execute_result"
        }
      ],
      "source": [
        "data.tail()"
      ]
    },
    {
      "cell_type": "markdown",
      "id": "cd04b96c",
      "metadata": {
        "id": "cd04b96c"
      },
      "source": [
        "6. Визначимо тип даних в рядках, використовуючи функцію dtypes."
      ]
    },
    {
      "cell_type": "code",
      "execution_count": null,
      "id": "ba62063e",
      "metadata": {
        "id": "ba62063e",
        "outputId": "146a2818-586b-489d-dfaa-7be652f3014b"
      },
      "outputs": [
        {
          "data": {
            "text/plain": [
              "category     object\n",
              "item         object\n",
              "variety      object\n",
              "date         object\n",
              "price       float64\n",
              "unit         object\n",
              "dtype: object"
            ]
          },
          "execution_count": 20,
          "metadata": {},
          "output_type": "execute_result"
        }
      ],
      "source": [
        "data.dtypes"
      ]
    },
    {
      "cell_type": "markdown",
      "id": "a2bfb74c",
      "metadata": {
        "id": "a2bfb74c"
      },
      "source": [
        "7.1. Застосуємо функцію describe до повного масиву даних."
      ]
    },
    {
      "cell_type": "code",
      "execution_count": null,
      "id": "01b5a0cf",
      "metadata": {
        "scrolled": false,
        "id": "01b5a0cf",
        "outputId": "74fb01d9-8024-4fd8-a5b8-a41ae175fedd"
      },
      "outputs": [
        {
          "data": {
            "text/html": [
              "<div>\n",
              "<style scoped>\n",
              "    .dataframe tbody tr th:only-of-type {\n",
              "        vertical-align: middle;\n",
              "    }\n",
              "\n",
              "    .dataframe tbody tr th {\n",
              "        vertical-align: top;\n",
              "    }\n",
              "\n",
              "    .dataframe thead th {\n",
              "        text-align: right;\n",
              "    }\n",
              "</style>\n",
              "<table border=\"1\" class=\"dataframe\">\n",
              "  <thead>\n",
              "    <tr style=\"text-align: right;\">\n",
              "      <th></th>\n",
              "      <th>price</th>\n",
              "    </tr>\n",
              "  </thead>\n",
              "  <tbody>\n",
              "    <tr>\n",
              "      <th>count</th>\n",
              "      <td>9647.000000</td>\n",
              "    </tr>\n",
              "    <tr>\n",
              "      <th>mean</th>\n",
              "      <td>1.528333</td>\n",
              "    </tr>\n",
              "    <tr>\n",
              "      <th>std</th>\n",
              "      <td>1.927865</td>\n",
              "    </tr>\n",
              "    <tr>\n",
              "      <th>min</th>\n",
              "      <td>0.020000</td>\n",
              "    </tr>\n",
              "    <tr>\n",
              "      <th>25%</th>\n",
              "      <td>0.540000</td>\n",
              "    </tr>\n",
              "    <tr>\n",
              "      <th>50%</th>\n",
              "      <td>0.880000</td>\n",
              "    </tr>\n",
              "    <tr>\n",
              "      <th>75%</th>\n",
              "      <td>1.500000</td>\n",
              "    </tr>\n",
              "    <tr>\n",
              "      <th>max</th>\n",
              "      <td>17.600000</td>\n",
              "    </tr>\n",
              "  </tbody>\n",
              "</table>\n",
              "</div>"
            ],
            "text/plain": [
              "             price\n",
              "count  9647.000000\n",
              "mean      1.528333\n",
              "std       1.927865\n",
              "min       0.020000\n",
              "25%       0.540000\n",
              "50%       0.880000\n",
              "75%       1.500000\n",
              "max      17.600000"
            ]
          },
          "execution_count": 47,
          "metadata": {},
          "output_type": "execute_result"
        }
      ],
      "source": [
        "info_data = data.describe()\n",
        "info_data"
      ]
    },
    {
      "cell_type": "markdown",
      "id": "6d19b396",
      "metadata": {
        "id": "6d19b396"
      },
      "source": [
        "7.2. Застосуємо функцію describe для окремих змінних."
      ]
    },
    {
      "cell_type": "code",
      "execution_count": null,
      "id": "58e2900c",
      "metadata": {
        "id": "58e2900c",
        "outputId": "095c10bf-bff5-4b67-a8c6-5d9f8bed3a31"
      },
      "outputs": [
        {
          "data": {
            "text/plain": [
              "count       9647\n",
              "unique        54\n",
              "top       apples\n",
              "freq        1077\n",
              "Name: item, dtype: object"
            ]
          },
          "execution_count": 48,
          "metadata": {},
          "output_type": "execute_result"
        }
      ],
      "source": [
        "data[\"item\"].describe()"
      ]
    },
    {
      "cell_type": "code",
      "execution_count": null,
      "id": "31048b32",
      "metadata": {
        "id": "31048b32",
        "outputId": "ebe2cc0d-efbe-4f54-a9bd-671d445533f6"
      },
      "outputs": [
        {
          "data": {
            "text/plain": [
              "count    9647.000000\n",
              "mean        1.528333\n",
              "std         1.927865\n",
              "min         0.020000\n",
              "25%         0.540000\n",
              "50%         0.880000\n",
              "75%         1.500000\n",
              "max        17.600000\n",
              "Name: price, dtype: float64"
            ]
          },
          "execution_count": 49,
          "metadata": {},
          "output_type": "execute_result"
        }
      ],
      "source": [
        "data[\"price\"].describe()"
      ]
    },
    {
      "cell_type": "markdown",
      "id": "4c0e545c",
      "metadata": {
        "id": "4c0e545c"
      },
      "source": [
        "8. Створюємо новий масив даних, що містить лише перші 10 рядків з завантаженого масиву."
      ]
    },
    {
      "cell_type": "code",
      "execution_count": null,
      "id": "49abffcc",
      "metadata": {
        "scrolled": true,
        "id": "49abffcc",
        "outputId": "4794b0b5-c018-4679-faaf-52ec753a6edd"
      },
      "outputs": [
        {
          "data": {
            "text/html": [
              "<div>\n",
              "<style scoped>\n",
              "    .dataframe tbody tr th:only-of-type {\n",
              "        vertical-align: middle;\n",
              "    }\n",
              "\n",
              "    .dataframe tbody tr th {\n",
              "        vertical-align: top;\n",
              "    }\n",
              "\n",
              "    .dataframe thead th {\n",
              "        text-align: right;\n",
              "    }\n",
              "</style>\n",
              "<table border=\"1\" class=\"dataframe\">\n",
              "  <thead>\n",
              "    <tr style=\"text-align: right;\">\n",
              "      <th></th>\n",
              "      <th>category</th>\n",
              "      <th>item</th>\n",
              "      <th>variety</th>\n",
              "      <th>date</th>\n",
              "      <th>price</th>\n",
              "      <th>unit</th>\n",
              "    </tr>\n",
              "  </thead>\n",
              "  <tbody>\n",
              "    <tr>\n",
              "      <th>0</th>\n",
              "      <td>fruit</td>\n",
              "      <td>apples</td>\n",
              "      <td>bramleys_seedling</td>\n",
              "      <td>2022-03-11</td>\n",
              "      <td>2.05</td>\n",
              "      <td>kg</td>\n",
              "    </tr>\n",
              "    <tr>\n",
              "      <th>1</th>\n",
              "      <td>fruit</td>\n",
              "      <td>apples</td>\n",
              "      <td>coxs_orange_group</td>\n",
              "      <td>2022-03-11</td>\n",
              "      <td>1.22</td>\n",
              "      <td>kg</td>\n",
              "    </tr>\n",
              "    <tr>\n",
              "      <th>2</th>\n",
              "      <td>fruit</td>\n",
              "      <td>apples</td>\n",
              "      <td>egremont_russet</td>\n",
              "      <td>2022-03-11</td>\n",
              "      <td>1.14</td>\n",
              "      <td>kg</td>\n",
              "    </tr>\n",
              "    <tr>\n",
              "      <th>3</th>\n",
              "      <td>fruit</td>\n",
              "      <td>apples</td>\n",
              "      <td>braeburn</td>\n",
              "      <td>2022-03-11</td>\n",
              "      <td>1.05</td>\n",
              "      <td>kg</td>\n",
              "    </tr>\n",
              "    <tr>\n",
              "      <th>4</th>\n",
              "      <td>fruit</td>\n",
              "      <td>apples</td>\n",
              "      <td>gala</td>\n",
              "      <td>2022-03-11</td>\n",
              "      <td>1.03</td>\n",
              "      <td>kg</td>\n",
              "    </tr>\n",
              "    <tr>\n",
              "      <th>5</th>\n",
              "      <td>fruit</td>\n",
              "      <td>apples</td>\n",
              "      <td>other_late_season</td>\n",
              "      <td>2022-03-11</td>\n",
              "      <td>0.85</td>\n",
              "      <td>kg</td>\n",
              "    </tr>\n",
              "    <tr>\n",
              "      <th>6</th>\n",
              "      <td>fruit</td>\n",
              "      <td>pears</td>\n",
              "      <td>conference</td>\n",
              "      <td>2022-03-11</td>\n",
              "      <td>0.77</td>\n",
              "      <td>kg</td>\n",
              "    </tr>\n",
              "    <tr>\n",
              "      <th>7</th>\n",
              "      <td>fruit</td>\n",
              "      <td>pears</td>\n",
              "      <td>doyenne_du_comice</td>\n",
              "      <td>2022-03-11</td>\n",
              "      <td>1.24</td>\n",
              "      <td>kg</td>\n",
              "    </tr>\n",
              "    <tr>\n",
              "      <th>8</th>\n",
              "      <td>vegetable</td>\n",
              "      <td>beetroot</td>\n",
              "      <td>beetroot</td>\n",
              "      <td>2022-03-11</td>\n",
              "      <td>0.52</td>\n",
              "      <td>kg</td>\n",
              "    </tr>\n",
              "    <tr>\n",
              "      <th>9</th>\n",
              "      <td>vegetable</td>\n",
              "      <td>brussels_sprouts</td>\n",
              "      <td>brussels_sprouts</td>\n",
              "      <td>2022-03-11</td>\n",
              "      <td>0.78</td>\n",
              "      <td>kg</td>\n",
              "    </tr>\n",
              "  </tbody>\n",
              "</table>\n",
              "</div>"
            ],
            "text/plain": [
              "    category              item            variety        date  price unit\n",
              "0      fruit            apples  bramleys_seedling  2022-03-11   2.05   kg\n",
              "1      fruit            apples  coxs_orange_group  2022-03-11   1.22   kg\n",
              "2      fruit            apples    egremont_russet  2022-03-11   1.14   kg\n",
              "3      fruit            apples           braeburn  2022-03-11   1.05   kg\n",
              "4      fruit            apples               gala  2022-03-11   1.03   kg\n",
              "5      fruit            apples  other_late_season  2022-03-11   0.85   kg\n",
              "6      fruit             pears         conference  2022-03-11   0.77   kg\n",
              "7      fruit             pears  doyenne_du_comice  2022-03-11   1.24   kg\n",
              "8  vegetable          beetroot           beetroot  2022-03-11   0.52   kg\n",
              "9  vegetable  brussels_sprouts   brussels_sprouts  2022-03-11   0.78   kg"
            ]
          },
          "execution_count": 50,
          "metadata": {},
          "output_type": "execute_result"
        }
      ],
      "source": [
        "cut_data = data.iloc[0:10,:]\n",
        "cut_data"
      ]
    },
    {
      "cell_type": "markdown",
      "id": "ee834ccc",
      "metadata": {
        "id": "ee834ccc"
      },
      "source": [
        "9. Додаємо новий стовпчик, та заповнюємо його даними, що відносять кожний з рядків до однієї з двох груп."
      ]
    },
    {
      "cell_type": "code",
      "execution_count": null,
      "id": "839f235a",
      "metadata": {
        "id": "839f235a",
        "outputId": "cd1205d1-09aa-4d1d-9fe7-5aa42eb028b5"
      },
      "outputs": [
        {
          "data": {
            "text/html": [
              "<div>\n",
              "<style scoped>\n",
              "    .dataframe tbody tr th:only-of-type {\n",
              "        vertical-align: middle;\n",
              "    }\n",
              "\n",
              "    .dataframe tbody tr th {\n",
              "        vertical-align: top;\n",
              "    }\n",
              "\n",
              "    .dataframe thead th {\n",
              "        text-align: right;\n",
              "    }\n",
              "</style>\n",
              "<table border=\"1\" class=\"dataframe\">\n",
              "  <thead>\n",
              "    <tr style=\"text-align: right;\">\n",
              "      <th></th>\n",
              "      <th>category</th>\n",
              "      <th>Group</th>\n",
              "      <th>item</th>\n",
              "      <th>variety</th>\n",
              "      <th>date</th>\n",
              "      <th>price</th>\n",
              "      <th>unit</th>\n",
              "    </tr>\n",
              "  </thead>\n",
              "  <tbody>\n",
              "    <tr>\n",
              "      <th>0</th>\n",
              "      <td>fruit</td>\n",
              "      <td>gr1</td>\n",
              "      <td>apples</td>\n",
              "      <td>bramleys_seedling</td>\n",
              "      <td>2022-03-11</td>\n",
              "      <td>2.05</td>\n",
              "      <td>kg</td>\n",
              "    </tr>\n",
              "    <tr>\n",
              "      <th>1</th>\n",
              "      <td>fruit</td>\n",
              "      <td>gr1</td>\n",
              "      <td>apples</td>\n",
              "      <td>coxs_orange_group</td>\n",
              "      <td>2022-03-11</td>\n",
              "      <td>1.22</td>\n",
              "      <td>kg</td>\n",
              "    </tr>\n",
              "    <tr>\n",
              "      <th>2</th>\n",
              "      <td>fruit</td>\n",
              "      <td>gr2</td>\n",
              "      <td>apples</td>\n",
              "      <td>egremont_russet</td>\n",
              "      <td>2022-03-11</td>\n",
              "      <td>1.14</td>\n",
              "      <td>kg</td>\n",
              "    </tr>\n",
              "    <tr>\n",
              "      <th>3</th>\n",
              "      <td>fruit</td>\n",
              "      <td>gr1</td>\n",
              "      <td>apples</td>\n",
              "      <td>braeburn</td>\n",
              "      <td>2022-03-11</td>\n",
              "      <td>1.05</td>\n",
              "      <td>kg</td>\n",
              "    </tr>\n",
              "    <tr>\n",
              "      <th>4</th>\n",
              "      <td>fruit</td>\n",
              "      <td>gr1</td>\n",
              "      <td>apples</td>\n",
              "      <td>gala</td>\n",
              "      <td>2022-03-11</td>\n",
              "      <td>1.03</td>\n",
              "      <td>kg</td>\n",
              "    </tr>\n",
              "    <tr>\n",
              "      <th>5</th>\n",
              "      <td>fruit</td>\n",
              "      <td>gr2</td>\n",
              "      <td>apples</td>\n",
              "      <td>other_late_season</td>\n",
              "      <td>2022-03-11</td>\n",
              "      <td>0.85</td>\n",
              "      <td>kg</td>\n",
              "    </tr>\n",
              "    <tr>\n",
              "      <th>6</th>\n",
              "      <td>fruit</td>\n",
              "      <td>gr2</td>\n",
              "      <td>pears</td>\n",
              "      <td>conference</td>\n",
              "      <td>2022-03-11</td>\n",
              "      <td>0.77</td>\n",
              "      <td>kg</td>\n",
              "    </tr>\n",
              "    <tr>\n",
              "      <th>7</th>\n",
              "      <td>fruit</td>\n",
              "      <td>gr1</td>\n",
              "      <td>pears</td>\n",
              "      <td>doyenne_du_comice</td>\n",
              "      <td>2022-03-11</td>\n",
              "      <td>1.24</td>\n",
              "      <td>kg</td>\n",
              "    </tr>\n",
              "    <tr>\n",
              "      <th>8</th>\n",
              "      <td>vegetable</td>\n",
              "      <td>gr2</td>\n",
              "      <td>beetroot</td>\n",
              "      <td>beetroot</td>\n",
              "      <td>2022-03-11</td>\n",
              "      <td>0.52</td>\n",
              "      <td>kg</td>\n",
              "    </tr>\n",
              "    <tr>\n",
              "      <th>9</th>\n",
              "      <td>vegetable</td>\n",
              "      <td>gr1</td>\n",
              "      <td>brussels_sprouts</td>\n",
              "      <td>brussels_sprouts</td>\n",
              "      <td>2022-03-11</td>\n",
              "      <td>0.78</td>\n",
              "      <td>kg</td>\n",
              "    </tr>\n",
              "  </tbody>\n",
              "</table>\n",
              "</div>"
            ],
            "text/plain": [
              "    category Group              item            variety        date  price  \\\n",
              "0      fruit   gr1            apples  bramleys_seedling  2022-03-11   2.05   \n",
              "1      fruit   gr1            apples  coxs_orange_group  2022-03-11   1.22   \n",
              "2      fruit   gr2            apples    egremont_russet  2022-03-11   1.14   \n",
              "3      fruit   gr1            apples           braeburn  2022-03-11   1.05   \n",
              "4      fruit   gr1            apples               gala  2022-03-11   1.03   \n",
              "5      fruit   gr2            apples  other_late_season  2022-03-11   0.85   \n",
              "6      fruit   gr2             pears         conference  2022-03-11   0.77   \n",
              "7      fruit   gr1             pears  doyenne_du_comice  2022-03-11   1.24   \n",
              "8  vegetable   gr2          beetroot           beetroot  2022-03-11   0.52   \n",
              "9  vegetable   gr1  brussels_sprouts   brussels_sprouts  2022-03-11   0.78   \n",
              "\n",
              "  unit  \n",
              "0   kg  \n",
              "1   kg  \n",
              "2   kg  \n",
              "3   kg  \n",
              "4   kg  \n",
              "5   kg  \n",
              "6   kg  \n",
              "7   kg  \n",
              "8   kg  \n",
              "9   kg  "
            ]
          },
          "execution_count": 51,
          "metadata": {},
          "output_type": "execute_result"
        }
      ],
      "source": [
        "new_data = [\"gr1\", \"gr1\", \"gr2\", \"gr1\", \"gr1\", \"gr2\", \"gr2\", \"gr1\", \"gr2\", \"gr1\"]\n",
        "cut_data.insert(1, \"Group\", new_data)\n",
        "cut_data"
      ]
    },
    {
      "cell_type": "markdown",
      "id": "d19cabf6",
      "metadata": {
        "id": "d19cabf6"
      },
      "source": [
        "10. Виведемо статистику по всім змінним розділивши масив даних"
      ]
    },
    {
      "cell_type": "code",
      "execution_count": null,
      "id": "615c4ee2",
      "metadata": {
        "id": "615c4ee2",
        "outputId": "e68dd476-4da2-4674-e64c-a9ba2ec08106"
      },
      "outputs": [
        {
          "data": {
            "text/html": [
              "<div>\n",
              "<style scoped>\n",
              "    .dataframe tbody tr th:only-of-type {\n",
              "        vertical-align: middle;\n",
              "    }\n",
              "\n",
              "    .dataframe tbody tr th {\n",
              "        vertical-align: top;\n",
              "    }\n",
              "\n",
              "    .dataframe thead tr th {\n",
              "        text-align: left;\n",
              "    }\n",
              "\n",
              "    .dataframe thead tr:last-of-type th {\n",
              "        text-align: right;\n",
              "    }\n",
              "</style>\n",
              "<table border=\"1\" class=\"dataframe\">\n",
              "  <thead>\n",
              "    <tr>\n",
              "      <th></th>\n",
              "      <th colspan=\"8\" halign=\"left\">price</th>\n",
              "    </tr>\n",
              "    <tr>\n",
              "      <th></th>\n",
              "      <th>count</th>\n",
              "      <th>mean</th>\n",
              "      <th>std</th>\n",
              "      <th>min</th>\n",
              "      <th>25%</th>\n",
              "      <th>50%</th>\n",
              "      <th>75%</th>\n",
              "      <th>max</th>\n",
              "    </tr>\n",
              "    <tr>\n",
              "      <th>Group</th>\n",
              "      <th></th>\n",
              "      <th></th>\n",
              "      <th></th>\n",
              "      <th></th>\n",
              "      <th></th>\n",
              "      <th></th>\n",
              "      <th></th>\n",
              "      <th></th>\n",
              "    </tr>\n",
              "  </thead>\n",
              "  <tbody>\n",
              "    <tr>\n",
              "      <th>gr1</th>\n",
              "      <td>6.0</td>\n",
              "      <td>1.228333</td>\n",
              "      <td>0.435312</td>\n",
              "      <td>0.78</td>\n",
              "      <td>1.0350</td>\n",
              "      <td>1.135</td>\n",
              "      <td>1.2350</td>\n",
              "      <td>2.05</td>\n",
              "    </tr>\n",
              "    <tr>\n",
              "      <th>gr2</th>\n",
              "      <td>4.0</td>\n",
              "      <td>0.820000</td>\n",
              "      <td>0.255473</td>\n",
              "      <td>0.52</td>\n",
              "      <td>0.7075</td>\n",
              "      <td>0.810</td>\n",
              "      <td>0.9225</td>\n",
              "      <td>1.14</td>\n",
              "    </tr>\n",
              "  </tbody>\n",
              "</table>\n",
              "</div>"
            ],
            "text/plain": [
              "      price                                                       \n",
              "      count      mean       std   min     25%    50%     75%   max\n",
              "Group                                                             \n",
              "gr1     6.0  1.228333  0.435312  0.78  1.0350  1.135  1.2350  2.05\n",
              "gr2     4.0  0.820000  0.255473  0.52  0.7075  0.810  0.9225  1.14"
            ]
          },
          "execution_count": 52,
          "metadata": {},
          "output_type": "execute_result"
        }
      ],
      "source": [
        "cut_data.groupby(\"Group\").describe()"
      ]
    },
    {
      "cell_type": "markdown",
      "id": "8faf9c33",
      "metadata": {
        "id": "8faf9c33"
      },
      "source": [
        "11. Зберігаємо два файли даних:\n",
        "11.1. Файл з обрізаним масивом даних, та з новою змінною.\n",
        "11.2. Файл з повною статистикою по початковому масиву даних.\n"
      ]
    },
    {
      "cell_type": "code",
      "execution_count": null,
      "id": "94ec3ff7",
      "metadata": {
        "id": "94ec3ff7"
      },
      "outputs": [],
      "source": [
        "cut_data.to_csv(\"output1.csv\", encoding = 'utf8')\n",
        "info.to_csv(\"output2.csv\")"
      ]
    },
    {
      "cell_type": "code",
      "execution_count": null,
      "id": "32b08b21",
      "metadata": {
        "id": "32b08b21"
      },
      "outputs": [],
      "source": []
    }
  ],
  "metadata": {
    "kernelspec": {
      "display_name": "Python 3 (ipykernel)",
      "language": "python",
      "name": "python3"
    },
    "language_info": {
      "codemirror_mode": {
        "name": "ipython",
        "version": 3
      },
      "file_extension": ".py",
      "mimetype": "text/x-python",
      "name": "python",
      "nbconvert_exporter": "python",
      "pygments_lexer": "ipython3",
      "version": "3.9.7"
    },
    "colab": {
      "provenance": [],
      "include_colab_link": true
    }
  },
  "nbformat": 4,
  "nbformat_minor": 5
}