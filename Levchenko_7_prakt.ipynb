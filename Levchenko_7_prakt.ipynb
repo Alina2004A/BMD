{
  "cells": [
    {
      "cell_type": "markdown",
      "metadata": {
        "id": "view-in-github",
        "colab_type": "text"
      },
      "source": [
        "<a href=\"https://colab.research.google.com/github/Alina2004A/BMD/blob/main/Levchenko_7_prakt.ipynb\" target=\"_parent\"><img src=\"https://colab.research.google.com/assets/colab-badge.svg\" alt=\"Open In Colab\"/></a>"
      ]
    },
    {
      "cell_type": "markdown",
      "source": [
        "<h1>7 практична</h1>\n",
        "<p><font size=10>Левченко БС-11</font></p>"
      ],
      "metadata": {
        "id": "hCyAropqb_5f"
      }
    },
    {
      "cell_type": "markdown",
      "source": [
        "Створюючи базу даних я вивчила тему летальності випадків ДТП при різних швидкостях зіткнення автомобіля з пішоходом\n",
        "В одному з ПДФ файлів сайту http://www.ador.ru я наткнулась на статистику, що стверджує наступне:\n",
        "на швидкості >38 км/год відсоток летальності 15, >48 км/год - 45 , >64 км/год - 85\n",
        "Виходячи з цих даних я згенерула по 10 випадкових чисел на кожну з груп, розподілених за нормальним розподілом, \n",
        "приблизно з однаковим стандартним відхиленням (а отже і дисперсією)\n",
        "та присвоїла кожному рядку, придуману назву, нехай це будуть назви штатів. Так база даних виглядає більш-менш правдоподібна\n"
      ],
      "metadata": {
        "id": "t-7unN9ian-9"
      }
    },
    {
      "cell_type": "code",
      "execution_count": 1,
      "metadata": {
        "colab": {
          "base_uri": "https://localhost:8080/",
          "height": 363
        },
        "id": "Bfw_1vRgY3P2",
        "outputId": "2fbdb99a-fe03-4046-98a0-e66c25a84bc7"
      },
      "outputs": [
        {
          "output_type": "execute_result",
          "data": {
            "text/plain": [
              "        State  Speed > 38  Speed > 48  Speed > 64\n",
              "0     Arizona       23.36       61.85       89.91\n",
              "1       Texas        6.50       42.89       75.18\n",
              "2  California       13.37       34.93       87.24\n",
              "3     Florida       17.66       39.64       78.42\n",
              "4      Kansas        8.00       41.79       70.41\n",
              "5    Michigan        9.60       35.73       95.30\n",
              "6    Nebraska       23.87       48.70       91.52\n",
              "7    New York       27.37       61.12       90.47\n",
              "8  Washington       16.70       49.28       91.74\n",
              "9        Ohio        9.73       38.63       96.78"
            ],
            "text/html": [
              "\n",
              "  <div id=\"df-12c8c0ed-2777-4415-bf94-89e91a6b02bb\">\n",
              "    <div class=\"colab-df-container\">\n",
              "      <div>\n",
              "<style scoped>\n",
              "    .dataframe tbody tr th:only-of-type {\n",
              "        vertical-align: middle;\n",
              "    }\n",
              "\n",
              "    .dataframe tbody tr th {\n",
              "        vertical-align: top;\n",
              "    }\n",
              "\n",
              "    .dataframe thead th {\n",
              "        text-align: right;\n",
              "    }\n",
              "</style>\n",
              "<table border=\"1\" class=\"dataframe\">\n",
              "  <thead>\n",
              "    <tr style=\"text-align: right;\">\n",
              "      <th></th>\n",
              "      <th>State</th>\n",
              "      <th>Speed &gt; 38</th>\n",
              "      <th>Speed &gt; 48</th>\n",
              "      <th>Speed &gt; 64</th>\n",
              "    </tr>\n",
              "  </thead>\n",
              "  <tbody>\n",
              "    <tr>\n",
              "      <th>0</th>\n",
              "      <td>Arizona</td>\n",
              "      <td>23.36</td>\n",
              "      <td>61.85</td>\n",
              "      <td>89.91</td>\n",
              "    </tr>\n",
              "    <tr>\n",
              "      <th>1</th>\n",
              "      <td>Texas</td>\n",
              "      <td>6.50</td>\n",
              "      <td>42.89</td>\n",
              "      <td>75.18</td>\n",
              "    </tr>\n",
              "    <tr>\n",
              "      <th>2</th>\n",
              "      <td>California</td>\n",
              "      <td>13.37</td>\n",
              "      <td>34.93</td>\n",
              "      <td>87.24</td>\n",
              "    </tr>\n",
              "    <tr>\n",
              "      <th>3</th>\n",
              "      <td>Florida</td>\n",
              "      <td>17.66</td>\n",
              "      <td>39.64</td>\n",
              "      <td>78.42</td>\n",
              "    </tr>\n",
              "    <tr>\n",
              "      <th>4</th>\n",
              "      <td>Kansas</td>\n",
              "      <td>8.00</td>\n",
              "      <td>41.79</td>\n",
              "      <td>70.41</td>\n",
              "    </tr>\n",
              "    <tr>\n",
              "      <th>5</th>\n",
              "      <td>Michigan</td>\n",
              "      <td>9.60</td>\n",
              "      <td>35.73</td>\n",
              "      <td>95.30</td>\n",
              "    </tr>\n",
              "    <tr>\n",
              "      <th>6</th>\n",
              "      <td>Nebraska</td>\n",
              "      <td>23.87</td>\n",
              "      <td>48.70</td>\n",
              "      <td>91.52</td>\n",
              "    </tr>\n",
              "    <tr>\n",
              "      <th>7</th>\n",
              "      <td>New York</td>\n",
              "      <td>27.37</td>\n",
              "      <td>61.12</td>\n",
              "      <td>90.47</td>\n",
              "    </tr>\n",
              "    <tr>\n",
              "      <th>8</th>\n",
              "      <td>Washington</td>\n",
              "      <td>16.70</td>\n",
              "      <td>49.28</td>\n",
              "      <td>91.74</td>\n",
              "    </tr>\n",
              "    <tr>\n",
              "      <th>9</th>\n",
              "      <td>Ohio</td>\n",
              "      <td>9.73</td>\n",
              "      <td>38.63</td>\n",
              "      <td>96.78</td>\n",
              "    </tr>\n",
              "  </tbody>\n",
              "</table>\n",
              "</div>\n",
              "      <button class=\"colab-df-convert\" onclick=\"convertToInteractive('df-12c8c0ed-2777-4415-bf94-89e91a6b02bb')\"\n",
              "              title=\"Convert this dataframe to an interactive table.\"\n",
              "              style=\"display:none;\">\n",
              "        \n",
              "  <svg xmlns=\"http://www.w3.org/2000/svg\" height=\"24px\"viewBox=\"0 0 24 24\"\n",
              "       width=\"24px\">\n",
              "    <path d=\"M0 0h24v24H0V0z\" fill=\"none\"/>\n",
              "    <path d=\"M18.56 5.44l.94 2.06.94-2.06 2.06-.94-2.06-.94-.94-2.06-.94 2.06-2.06.94zm-11 1L8.5 8.5l.94-2.06 2.06-.94-2.06-.94L8.5 2.5l-.94 2.06-2.06.94zm10 10l.94 2.06.94-2.06 2.06-.94-2.06-.94-.94-2.06-.94 2.06-2.06.94z\"/><path d=\"M17.41 7.96l-1.37-1.37c-.4-.4-.92-.59-1.43-.59-.52 0-1.04.2-1.43.59L10.3 9.45l-7.72 7.72c-.78.78-.78 2.05 0 2.83L4 21.41c.39.39.9.59 1.41.59.51 0 1.02-.2 1.41-.59l7.78-7.78 2.81-2.81c.8-.78.8-2.07 0-2.86zM5.41 20L4 18.59l7.72-7.72 1.47 1.35L5.41 20z\"/>\n",
              "  </svg>\n",
              "      </button>\n",
              "      \n",
              "  <style>\n",
              "    .colab-df-container {\n",
              "      display:flex;\n",
              "      flex-wrap:wrap;\n",
              "      gap: 12px;\n",
              "    }\n",
              "\n",
              "    .colab-df-convert {\n",
              "      background-color: #E8F0FE;\n",
              "      border: none;\n",
              "      border-radius: 50%;\n",
              "      cursor: pointer;\n",
              "      display: none;\n",
              "      fill: #1967D2;\n",
              "      height: 32px;\n",
              "      padding: 0 0 0 0;\n",
              "      width: 32px;\n",
              "    }\n",
              "\n",
              "    .colab-df-convert:hover {\n",
              "      background-color: #E2EBFA;\n",
              "      box-shadow: 0px 1px 2px rgba(60, 64, 67, 0.3), 0px 1px 3px 1px rgba(60, 64, 67, 0.15);\n",
              "      fill: #174EA6;\n",
              "    }\n",
              "\n",
              "    [theme=dark] .colab-df-convert {\n",
              "      background-color: #3B4455;\n",
              "      fill: #D2E3FC;\n",
              "    }\n",
              "\n",
              "    [theme=dark] .colab-df-convert:hover {\n",
              "      background-color: #434B5C;\n",
              "      box-shadow: 0px 1px 3px 1px rgba(0, 0, 0, 0.15);\n",
              "      filter: drop-shadow(0px 1px 2px rgba(0, 0, 0, 0.3));\n",
              "      fill: #FFFFFF;\n",
              "    }\n",
              "  </style>\n",
              "\n",
              "      <script>\n",
              "        const buttonEl =\n",
              "          document.querySelector('#df-12c8c0ed-2777-4415-bf94-89e91a6b02bb button.colab-df-convert');\n",
              "        buttonEl.style.display =\n",
              "          google.colab.kernel.accessAllowed ? 'block' : 'none';\n",
              "\n",
              "        async function convertToInteractive(key) {\n",
              "          const element = document.querySelector('#df-12c8c0ed-2777-4415-bf94-89e91a6b02bb');\n",
              "          const dataTable =\n",
              "            await google.colab.kernel.invokeFunction('convertToInteractive',\n",
              "                                                     [key], {});\n",
              "          if (!dataTable) return;\n",
              "\n",
              "          const docLinkHtml = 'Like what you see? Visit the ' +\n",
              "            '<a target=\"_blank\" href=https://colab.research.google.com/notebooks/data_table.ipynb>data table notebook</a>'\n",
              "            + ' to learn more about interactive tables.';\n",
              "          element.innerHTML = '';\n",
              "          dataTable['output_type'] = 'display_data';\n",
              "          await google.colab.output.renderOutput(dataTable, element);\n",
              "          const docLink = document.createElement('div');\n",
              "          docLink.innerHTML = docLinkHtml;\n",
              "          element.appendChild(docLink);\n",
              "        }\n",
              "      </script>\n",
              "    </div>\n",
              "  </div>\n",
              "  "
            ]
          },
          "metadata": {},
          "execution_count": 1
        }
      ],
      "source": [
        "import pandas as pd\n",
        "data = pd.DataFrame({\n",
        "    \"State\" : [\"Arizona\", \"Texas\", \"California\", \"Florida\", \"Kansas\", \"Michigan\", \"Nebraska\", \"New York\", \"Washington\", \"Ohio\"],\n",
        "    \"Speed > 38\" : [23.36, 6.5, 13.37, 17.66, 8.0, 9.6, 23.87, 27.37, 16.7, 9.73],\n",
        "    \"Speed > 48\" : [61.85, 42.89, 34.93, 39.64, 41.79, 35.73, 48.7, 61.12, 49.28, 38.63],\n",
        "    \"Speed > 64\" : [89.91, 75.18, 87.24, 78.42, 70.41, 95.3, 91.52, 90.47, 91.74, 96.78]\n",
        "})\n",
        "\n",
        "data"
      ]
    },
    {
      "cell_type": "code",
      "execution_count": 3,
      "metadata": {
        "colab": {
          "base_uri": "https://localhost:8080/",
          "height": 496
        },
        "id": "BodG8MZxY3P4",
        "outputId": "993a4780-3494-4870-d611-c051bbc1d508"
      },
      "outputs": [
        {
          "output_type": "execute_result",
          "data": {
            "text/plain": [
              "Text(0.5, 0, 'Deaths')"
            ]
          },
          "metadata": {},
          "execution_count": 3
        },
        {
          "output_type": "display_data",
          "data": {
            "text/plain": [
              "<Figure size 640x480 with 1 Axes>"
            ],
            "image/png": "[encoded data removed]"
          },
          "metadata": {}
        }
      ],
      "source": [
        "import matplotlib.pyplot as plt\n",
        "current_data = [data[\"Speed > 38\"], data[\"Speed > 48\"], data[\"Speed > 64\"]]\n",
        "plt.boxplot(x = current_data, vert = False, patch_artist = True, widths = 0.3)\n",
        "plt.grid()\n",
        "plt.title('Scatter plot for group', fontweight = 'bold', fontsize = 16);\n",
        "plt.ylabel('Speed', color = 'r', fontweight = 'bold', fontsize = 14)\n",
        "plt.xlabel('Deaths', color = 'r', fontweight = 'bold', fontsize = 14)"
      ]
    },
    {
      "cell_type": "markdown",
      "source": [
        "Додаємо до таблиці статистичні характиристики даних (середні та стандартні відхилення для кожної з груп)"
      ],
      "metadata": {
        "id": "Nvk5jdI7bHMC"
      }
    },
    {
      "cell_type": "code",
      "execution_count": 4,
      "metadata": {
        "colab": {
          "base_uri": "https://localhost:8080/",
          "height": 425
        },
        "id": "Up0Ll3rPY3P4",
        "outputId": "784db9b3-f9c3-42d4-dcae-fb065841f175"
      },
      "outputs": [
        {
          "output_type": "execute_result",
          "data": {
            "text/plain": [
              "         State  Speed > 38  Speed > 48  Speed > 64\n",
              "0      Arizona   23.360000   61.850000   89.910000\n",
              "1        Texas    6.500000   42.890000   75.180000\n",
              "2   California   13.370000   34.930000   87.240000\n",
              "3      Florida   17.660000   39.640000   78.420000\n",
              "4       Kansas    8.000000   41.790000   70.410000\n",
              "5     Michigan    9.600000   35.730000   95.300000\n",
              "6     Nebraska   23.870000   48.700000   91.520000\n",
              "7     New York   27.370000   61.120000   90.470000\n",
              "8   Washington   16.700000   49.280000   91.740000\n",
              "9         Ohio    9.730000   38.630000   96.780000\n",
              "10         Sum  156.160000  454.560000  866.970000\n",
              "11         Std    7.368056    9.690238    8.917161"
            ],
            "text/html": [
              "\n",
              "  <div id=\"df-08a10995-22c2-4d70-9f8a-bbc6a58b6b3b\">\n",
              "    <div class=\"colab-df-container\">\n",
              "      <div>\n",
              "<style scoped>\n",
              "    .dataframe tbody tr th:only-of-type {\n",
              "        vertical-align: middle;\n",
              "    }\n",
              "\n",
              "    .dataframe tbody tr th {\n",
              "        vertical-align: top;\n",
              "    }\n",
              "\n",
              "    .dataframe thead th {\n",
              "        text-align: right;\n",
              "    }\n",
              "</style>\n",
              "<table border=\"1\" class=\"dataframe\">\n",
              "  <thead>\n",
              "    <tr style=\"text-align: right;\">\n",
              "      <th></th>\n",
              "      <th>State</th>\n",
              "      <th>Speed &gt; 38</th>\n",
              "      <th>Speed &gt; 48</th>\n",
              "      <th>Speed &gt; 64</th>\n",
              "    </tr>\n",
              "  </thead>\n",
              "  <tbody>\n",
              "    <tr>\n",
              "      <th>0</th>\n",
              "      <td>Arizona</td>\n",
              "      <td>23.360000</td>\n",
              "      <td>61.850000</td>\n",
              "      <td>89.910000</td>\n",
              "    </tr>\n",
              "    <tr>\n",
              "      <th>1</th>\n",
              "      <td>Texas</td>\n",
              "      <td>6.500000</td>\n",
              "      <td>42.890000</td>\n",
              "      <td>75.180000</td>\n",
              "    </tr>\n",
              "    <tr>\n",
              "      <th>2</th>\n",
              "      <td>California</td>\n",
              "      <td>13.370000</td>\n",
              "      <td>34.930000</td>\n",
              "      <td>87.240000</td>\n",
              "    </tr>\n",
              "    <tr>\n",
              "      <th>3</th>\n",
              "      <td>Florida</td>\n",
              "      <td>17.660000</td>\n",
              "      <td>39.640000</td>\n",
              "      <td>78.420000</td>\n",
              "    </tr>\n",
              "    <tr>\n",
              "      <th>4</th>\n",
              "      <td>Kansas</td>\n",
              "      <td>8.000000</td>\n",
              "      <td>41.790000</td>\n",
              "      <td>70.410000</td>\n",
              "    </tr>\n",
              "    <tr>\n",
              "      <th>5</th>\n",
              "      <td>Michigan</td>\n",
              "      <td>9.600000</td>\n",
              "      <td>35.730000</td>\n",
              "      <td>95.300000</td>\n",
              "    </tr>\n",
              "    <tr>\n",
              "      <th>6</th>\n",
              "      <td>Nebraska</td>\n",
              "      <td>23.870000</td>\n",
              "      <td>48.700000</td>\n",
              "      <td>91.520000</td>\n",
              "    </tr>\n",
              "    <tr>\n",
              "      <th>7</th>\n",
              "      <td>New York</td>\n",
              "      <td>27.370000</td>\n",
              "      <td>61.120000</td>\n",
              "      <td>90.470000</td>\n",
              "    </tr>\n",
              "    <tr>\n",
              "      <th>8</th>\n",
              "      <td>Washington</td>\n",
              "      <td>16.700000</td>\n",
              "      <td>49.280000</td>\n",
              "      <td>91.740000</td>\n",
              "    </tr>\n",
              "    <tr>\n",
              "      <th>9</th>\n",
              "      <td>Ohio</td>\n",
              "      <td>9.730000</td>\n",
              "      <td>38.630000</td>\n",
              "      <td>96.780000</td>\n",
              "    </tr>\n",
              "    <tr>\n",
              "      <th>10</th>\n",
              "      <td>Sum</td>\n",
              "      <td>156.160000</td>\n",
              "      <td>454.560000</td>\n",
              "      <td>866.970000</td>\n",
              "    </tr>\n",
              "    <tr>\n",
              "      <th>11</th>\n",
              "      <td>Std</td>\n",
              "      <td>7.368056</td>\n",
              "      <td>9.690238</td>\n",
              "      <td>8.917161</td>\n",
              "    </tr>\n",
              "  </tbody>\n",
              "</table>\n",
              "</div>\n",
              "      <button class=\"colab-df-convert\" onclick=\"convertToInteractive('df-08a10995-22c2-4d70-9f8a-bbc6a58b6b3b')\"\n",
              "              title=\"Convert this dataframe to an interactive table.\"\n",
              "              style=\"display:none;\">\n",
              "        \n",
              "  <svg xmlns=\"http://www.w3.org/2000/svg\" height=\"24px\"viewBox=\"0 0 24 24\"\n",
              "       width=\"24px\">\n",
              "    <path d=\"M0 0h24v24H0V0z\" fill=\"none\"/>\n",
              "    <path d=\"M18.56 5.44l.94 2.06.94-2.06 2.06-.94-2.06-.94-.94-2.06-.94 2.06-2.06.94zm-11 1L8.5 8.5l.94-2.06 2.06-.94-2.06-.94L8.5 2.5l-.94 2.06-2.06.94zm10 10l.94 2.06.94-2.06 2.06-.94-2.06-.94-.94-2.06-.94 2.06-2.06.94z\"/><path d=\"M17.41 7.96l-1.37-1.37c-.4-.4-.92-.59-1.43-.59-.52 0-1.04.2-1.43.59L10.3 9.45l-7.72 7.72c-.78.78-.78 2.05 0 2.83L4 21.41c.39.39.9.59 1.41.59.51 0 1.02-.2 1.41-.59l7.78-7.78 2.81-2.81c.8-.78.8-2.07 0-2.86zM5.41 20L4 18.59l7.72-7.72 1.47 1.35L5.41 20z\"/>\n",
              "  </svg>\n",
              "      </button>\n",
              "      \n",
              "  <style>\n",
              "    .colab-df-container {\n",
              "      display:flex;\n",
              "      flex-wrap:wrap;\n",
              "      gap: 12px;\n",
              "    }\n",
              "\n",
              "    .colab-df-convert {\n",
              "      background-color: #E8F0FE;\n",
              "      border: none;\n",
              "      border-radius: 50%;\n",
              "      cursor: pointer;\n",
              "      display: none;\n",
              "      fill: #1967D2;\n",
              "      height: 32px;\n",
              "      padding: 0 0 0 0;\n",
              "      width: 32px;\n",
              "    }\n",
              "\n",
              "    .colab-df-convert:hover {\n",
              "      background-color: #E2EBFA;\n",
              "      box-shadow: 0px 1px 2px rgba(60, 64, 67, 0.3), 0px 1px 3px 1px rgba(60, 64, 67, 0.15);\n",
              "      fill: #174EA6;\n",
              "    }\n",
              "\n",
              "    [theme=dark] .colab-df-convert {\n",
              "      background-color: #3B4455;\n",
              "      fill: #D2E3FC;\n",
              "    }\n",
              "\n",
              "    [theme=dark] .colab-df-convert:hover {\n",
              "      background-color: #434B5C;\n",
              "      box-shadow: 0px 1px 3px 1px rgba(0, 0, 0, 0.15);\n",
              "      filter: drop-shadow(0px 1px 2px rgba(0, 0, 0, 0.3));\n",
              "      fill: #FFFFFF;\n",
              "    }\n",
              "  </style>\n",
              "\n",
              "      <script>\n",
              "        const buttonEl =\n",
              "          document.querySelector('#df-08a10995-22c2-4d70-9f8a-bbc6a58b6b3b button.colab-df-convert');\n",
              "        buttonEl.style.display =\n",
              "          google.colab.kernel.accessAllowed ? 'block' : 'none';\n",
              "\n",
              "        async function convertToInteractive(key) {\n",
              "          const element = document.querySelector('#df-08a10995-22c2-4d70-9f8a-bbc6a58b6b3b');\n",
              "          const dataTable =\n",
              "            await google.colab.kernel.invokeFunction('convertToInteractive',\n",
              "                                                     [key], {});\n",
              "          if (!dataTable) return;\n",
              "\n",
              "          const docLinkHtml = 'Like what you see? Visit the ' +\n",
              "            '<a target=\"_blank\" href=https://colab.research.google.com/notebooks/data_table.ipynb>data table notebook</a>'\n",
              "            + ' to learn more about interactive tables.';\n",
              "          element.innerHTML = '';\n",
              "          dataTable['output_type'] = 'display_data';\n",
              "          await google.colab.output.renderOutput(dataTable, element);\n",
              "          const docLink = document.createElement('div');\n",
              "          docLink.innerHTML = docLinkHtml;\n",
              "          element.appendChild(docLink);\n",
              "        }\n",
              "      </script>\n",
              "    </div>\n",
              "  </div>\n",
              "  "
            ]
          },
          "metadata": {},
          "execution_count": 4
        }
      ],
      "source": [
        "Sum_string = [\"Sum\", data[\"Speed > 38\"].sum(), data[\"Speed > 48\"].sum(), data[\"Speed > 64\"].sum()]\n",
        "Std_string = [\"Std\", data[\"Speed > 38\"].std(), data[\"Speed > 48\"].std(), data[\"Speed > 64\"].std()]\n",
        "data.loc[10] = Sum_string\n",
        "data.loc[11] = Std_string\n",
        "data"
      ]
    },
    {
      "cell_type": "markdown",
      "source": [
        "Розраховуємо основні величини однофакторного дисперсійного аналізу для зручної підстановки у формули"
      ],
      "metadata": {
        "id": "_WyLULGObNw-"
      }
    },
    {
      "cell_type": "code",
      "execution_count": 5,
      "metadata": {
        "colab": {
          "base_uri": "https://localhost:8080/"
        },
        "id": "tKhTb35dY3P5",
        "outputId": "6fdb1ece-385a-4beb-945f-504fcb08720d"
      },
      "outputs": [
        {
          "output_type": "stream",
          "name": "stdout",
          "text": [
            "100314.1145\n"
          ]
        }
      ],
      "source": [
        "T_sum_sq = ((data[\"Speed > 38\"][10]) ** 2) + ((data[\"Speed > 48\"][10]) ** 2) + ((data[\"Speed > 64\"][10]) ** 2)\n",
        "c = data.shape[1] - 1\n",
        "n = data.shape[0] - 2\n",
        "N = n * 3\n",
        "Square_main_sum = ((data[\"Speed > 38\"][10]) + (data[\"Speed > 48\"][10]) + (data[\"Speed > 64\"][10])) ** 2\n",
        "Difference_const = Square_main_sum / N\n",
        "Sum_square_individual = 0\n",
        "\n",
        "for i in range(1, c + 1):\n",
        "    for j in range(n):\n",
        "        Sum_square_individual += (data[list(data)[i]][j]) ** 2\n",
        "\n",
        "print(Sum_square_individual)"
      ]
    },
    {
      "cell_type": "markdown",
      "source": [
        "Критичне значення для критерію Фішера враховуючи наші дані, а саме: ступені свободи 3 - 1 та 30 - 1 дорівнює 3,3. Далі буду брати його як F_crit"
      ],
      "metadata": {
        "id": "fZvWjizJaer9"
      }
    },
    {
      "cell_type": "markdown",
      "source": [
        "Функція, що реалізовує двохфакторний дисперсійний аналіз"
      ],
      "metadata": {
        "id": "v5bl7gMibTJv"
      }
    },
    {
      "cell_type": "code",
      "execution_count": 6,
      "metadata": {
        "colab": {
          "base_uri": "https://localhost:8080/"
        },
        "id": "UKNdDyJcY3P5",
        "outputId": "a29b03bc-e596-48e6-c626-8bd2ab9e4d7b"
      },
      "outputs": [
        {
          "output_type": "stream",
          "name": "stdout",
          "text": [
            " \n",
            "      Stage         Result\n",
            "0   SS_fact   25479.180807\n",
            "1    SS_com   27528.523297\n",
            "2    SS_res     2049.34249\n",
            "3         d             27\n",
            "4        MS      75.901574\n",
            "5     F_emp     167.843561\n",
            "6    F_crit            3.3\n",
            "7  Equality  NOT confirmed\n"
          ]
        }
      ],
      "source": [
        "def Disp_analysis():\n",
        "    SS_fact = (T_sum_sq / n) - (Difference_const)\n",
        "    SS_com = (Sum_square_individual) - (Difference_const)\n",
        "    SS_res = (SS_com) - (SS_fact)\n",
        "    d_fact = c - 1\n",
        "    d_com = N - 1\n",
        "    d_res = (d_com) - (d_fact)\n",
        "    MS_fact = (SS_fact) / (d_fact)\n",
        "    MS_res = (SS_res) / (d_res)\n",
        "    F_emp = (MS_fact) / (MS_res)\n",
        "    F_crit = 3.3\n",
        "    if F_emp > F_crit:\n",
        "        Equality = 'NOT confirmed'\n",
        "    else:\n",
        "        Equality = 'confirmed'\n",
        "    \n",
        "    total = pd.DataFrame({\n",
        "        \"Stage\" : [\"SS_fact\", \"SS_com\", \"SS_res\", \"d\", \"MS\", \"F_emp\", \"F_crit\", \"Equality\"],\n",
        "        \"Result\" : [SS_fact, SS_com, SS_res, d_res, MS_res, F_emp, F_crit, Equality],\n",
        "    })\n",
        "    print(\" \")\n",
        "    print(total)\n",
        "    \n",
        "Disp_analysis()"
      ]
    },
    {
      "cell_type": "code",
      "execution_count": null,
      "metadata": {
        "id": "Aa44AcFAY3P6"
      },
      "outputs": [],
      "source": []
    }
  ],
  "metadata": {
    "kernelspec": {
      "display_name": "Python 3",
      "language": "python",
      "name": "python3"
    },
    "language_info": {
      "codemirror_mode": {
        "name": "ipython",
        "version": 3
      },
      "file_extension": ".py",
      "mimetype": "text/x-python",
      "name": "python",
      "nbconvert_exporter": "python",
      "pygments_lexer": "ipython3",
      "version": "3.7.4"
    },
    "colab": {
      "provenance": [],
      "include_colab_link": true
    }
  },
  "nbformat": 4,
  "nbformat_minor": 0
}