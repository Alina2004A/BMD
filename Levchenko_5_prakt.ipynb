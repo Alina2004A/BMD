{
  "cells": [
    {
      "cell_type": "markdown",
      "metadata": {
        "id": "view-in-github",
        "colab_type": "text"
      },
      "source": [
        "<a href=\"https://colab.research.google.com/github/Alina2004A/BMD/blob/main/Levchenko_5_prakt.ipynb\" target=\"_parent\"><img src=\"https://colab.research.google.com/assets/colab-badge.svg\" alt=\"Open In Colab\"/></a>"
      ]
    },
    {
      "cell_type": "markdown",
      "metadata": {
        "id": "9RHioPUvpaX3"
      },
      "source": [
        "<h1>5 практична</h1>\n",
        "<p><font size=10>Левченко БС-11</font></p>"
      ]
    },
    {
      "cell_type": "code",
      "metadata": {
        "id": "zyXdWWXf_Tm8"
      },
      "source": [
        "## Виконання"
      ],
      "execution_count": null,
      "outputs": []
    },
    {
      "cell_type": "code",
      "execution_count": null,
      "metadata": {
        "id": "17vb_T1eVOkv"
      },
      "outputs": [],
      "source": [
        "import pandas as pd\n",
        "import seaborn as sns\n",
        "import matplotlib.pyplot as plt\n",
        "import numpy as np"
      ]
    },
    {
      "cell_type": "markdown",
      "metadata": {
        "id": "PsKaU_5XVOkw"
      },
      "source": [
        "1. Обрати реальні дані з kaggle або сгенерувати випадкові дані, що містять розподіл деякої ознаки в двох групах."
      ]
    },
    {
      "cell_type": "code",
      "execution_count": null,
      "metadata": {
        "id": "aYQcOif_VOkw",
        "outputId": "17a99769-2189-4cf2-d36e-c578a4aa2446"
      },
      "outputs": [
        {
          "data": {
            "text/html": [
              "<div>\n",
              "<style scoped>\n",
              "    .dataframe tbody tr th:only-of-type {\n",
              "        vertical-align: middle;\n",
              "    }\n",
              "\n",
              "    .dataframe tbody tr th {\n",
              "        vertical-align: top;\n",
              "    }\n",
              "\n",
              "    .dataframe thead th {\n",
              "        text-align: right;\n",
              "    }\n",
              "</style>\n",
              "<table border=\"1\" class=\"dataframe\">\n",
              "  <thead>\n",
              "    <tr style=\"text-align: right;\">\n",
              "      <th></th>\n",
              "      <th>manufacturer</th>\n",
              "      <th>model</th>\n",
              "      <th>form</th>\n",
              "      <th>smartphone</th>\n",
              "      <th>year</th>\n",
              "      <th>units_sold_m</th>\n",
              "    </tr>\n",
              "  </thead>\n",
              "  <tbody>\n",
              "    <tr>\n",
              "      <th>0</th>\n",
              "      <td>Apple</td>\n",
              "      <td>iPhone 6S and iPhone 6S Plus</td>\n",
              "      <td>Touchscreen</td>\n",
              "      <td>Yes</td>\n",
              "      <td>2015</td>\n",
              "      <td>174.1</td>\n",
              "    </tr>\n",
              "    <tr>\n",
              "      <th>1</th>\n",
              "      <td>Apple</td>\n",
              "      <td>iPhone 5S</td>\n",
              "      <td>Touchscreen</td>\n",
              "      <td>Yes</td>\n",
              "      <td>2013</td>\n",
              "      <td>164.5</td>\n",
              "    </tr>\n",
              "    <tr>\n",
              "      <th>2</th>\n",
              "      <td>Nokia</td>\n",
              "      <td>3210</td>\n",
              "      <td>Bar</td>\n",
              "      <td>No</td>\n",
              "      <td>1999</td>\n",
              "      <td>161.0</td>\n",
              "    </tr>\n",
              "    <tr>\n",
              "      <th>3</th>\n",
              "      <td>Apple</td>\n",
              "      <td>iPhone 7 and iPhone 7 Plus</td>\n",
              "      <td>Touchscreen</td>\n",
              "      <td>Yes</td>\n",
              "      <td>2016</td>\n",
              "      <td>159.9</td>\n",
              "    </tr>\n",
              "    <tr>\n",
              "      <th>4</th>\n",
              "      <td>Nokia</td>\n",
              "      <td>6600</td>\n",
              "      <td>Bar</td>\n",
              "      <td>Yes</td>\n",
              "      <td>2003</td>\n",
              "      <td>150.0</td>\n",
              "    </tr>\n",
              "  </tbody>\n",
              "</table>\n",
              "</div>"
            ],
            "text/plain": [
              "  manufacturer                         model         form smartphone  year  \\\n",
              "0        Apple  iPhone 6S and iPhone 6S Plus  Touchscreen        Yes  2015   \n",
              "1        Apple                     iPhone 5S  Touchscreen        Yes  2013   \n",
              "2        Nokia                          3210          Bar         No  1999   \n",
              "3        Apple    iPhone 7 and iPhone 7 Plus  Touchscreen        Yes  2016   \n",
              "4        Nokia                          6600          Bar        Yes  2003   \n",
              "\n",
              "   units_sold_m  \n",
              "0         174.1  \n",
              "1         164.5  \n",
              "2         161.0  \n",
              "3         159.9  \n",
              "4         150.0  "
            ]
          },
          "execution_count": 24,
          "metadata": {},
          "output_type": "execute_result"
        }
      ],
      "source": [
        "data = pd.read_csv(\"best-selling-mobile-phones.csv\", encoding=\"utf-8\")\n",
        "data.head()"
      ]
    },
    {
      "cell_type": "code",
      "execution_count": null,
      "metadata": {
        "id": "-LElUjwHVOkw",
        "outputId": "ea0a5c37-7dfc-4b01-ec6e-c200cc8475b3"
      },
      "outputs": [
        {
          "data": {
            "text/html": [
              "<div>\n",
              "<style scoped>\n",
              "    .dataframe tbody tr th:only-of-type {\n",
              "        vertical-align: middle;\n",
              "    }\n",
              "\n",
              "    .dataframe tbody tr th {\n",
              "        vertical-align: top;\n",
              "    }\n",
              "\n",
              "    .dataframe thead th {\n",
              "        text-align: right;\n",
              "    }\n",
              "</style>\n",
              "<table border=\"1\" class=\"dataframe\">\n",
              "  <thead>\n",
              "    <tr style=\"text-align: right;\">\n",
              "      <th></th>\n",
              "      <th>form</th>\n",
              "      <th>manufacturer</th>\n",
              "    </tr>\n",
              "  </thead>\n",
              "  <tbody>\n",
              "    <tr>\n",
              "      <th>0</th>\n",
              "      <td>Touchscreen</td>\n",
              "      <td>Apple</td>\n",
              "    </tr>\n",
              "    <tr>\n",
              "      <th>1</th>\n",
              "      <td>Touchscreen</td>\n",
              "      <td>Apple</td>\n",
              "    </tr>\n",
              "    <tr>\n",
              "      <th>2</th>\n",
              "      <td>Bar</td>\n",
              "      <td>Nokia</td>\n",
              "    </tr>\n",
              "    <tr>\n",
              "      <th>3</th>\n",
              "      <td>Touchscreen</td>\n",
              "      <td>Apple</td>\n",
              "    </tr>\n",
              "    <tr>\n",
              "      <th>4</th>\n",
              "      <td>Bar</td>\n",
              "      <td>Nokia</td>\n",
              "    </tr>\n",
              "  </tbody>\n",
              "</table>\n",
              "</div>"
            ],
            "text/plain": [
              "          form manufacturer\n",
              "0  Touchscreen        Apple\n",
              "1  Touchscreen        Apple\n",
              "2          Bar        Nokia\n",
              "3  Touchscreen        Apple\n",
              "4          Bar        Nokia"
            ]
          },
          "execution_count": 25,
          "metadata": {},
          "output_type": "execute_result"
        }
      ],
      "source": [
        "data1 = pd.DataFrame({\"form\": data[\"form\"], \"manufacturer\": data[\"manufacturer\"]})\n",
        "data1.head()"
      ]
    },
    {
      "cell_type": "code",
      "execution_count": null,
      "metadata": {
        "id": "uas-Y02RVOkx",
        "outputId": "45b6d408-1413-4600-998d-d6b59267f056"
      },
      "outputs": [
        {
          "data": {
            "text/html": [
              "<div>\n",
              "<style scoped>\n",
              "    .dataframe tbody tr th:only-of-type {\n",
              "        vertical-align: middle;\n",
              "    }\n",
              "\n",
              "    .dataframe tbody tr th {\n",
              "        vertical-align: top;\n",
              "    }\n",
              "\n",
              "    .dataframe thead th {\n",
              "        text-align: right;\n",
              "    }\n",
              "</style>\n",
              "<table border=\"1\" class=\"dataframe\">\n",
              "  <thead>\n",
              "    <tr style=\"text-align: right;\">\n",
              "      <th></th>\n",
              "      <th>Touchscreen</th>\n",
              "      <th>Bar</th>\n",
              "    </tr>\n",
              "  </thead>\n",
              "  <tbody>\n",
              "    <tr>\n",
              "      <th>Apple</th>\n",
              "      <td>7</td>\n",
              "      <td>3</td>\n",
              "    </tr>\n",
              "    <tr>\n",
              "      <th>Nokia</th>\n",
              "      <td>2</td>\n",
              "      <td>16</td>\n",
              "    </tr>\n",
              "    <tr>\n",
              "      <th>Samsung</th>\n",
              "      <td>22</td>\n",
              "      <td>5</td>\n",
              "    </tr>\n",
              "  </tbody>\n",
              "</table>\n",
              "</div>"
            ],
            "text/plain": [
              "         Touchscreen  Bar\n",
              "Apple              7    3\n",
              "Nokia              2   16\n",
              "Samsung           22    5"
            ]
          },
          "execution_count": 26,
          "metadata": {},
          "output_type": "execute_result"
        }
      ],
      "source": [
        "my_data = pd.DataFrame({\n",
        "    \"Touchscreen\": [0 for i in range(3)],\n",
        "    \"Bar\": [0 for i in range(3)],\n",
        "}, index = [\"Apple\", \"Nokia\", \"Samsung\"])\n",
        "for i in range (len(data)):\n",
        "    if data[\"form\"][i] == \"Touchscreen\":\n",
        "        my_data[\"Touchscreen\"][data[\"manufacturer\"][i]] += 1\n",
        "    else:\n",
        "        my_data[\"Bar\"][data[\"manufacturer\"][i]] += 1\n",
        "my_data"
      ]
    },
    {
      "cell_type": "markdown",
      "metadata": {
        "id": "6j2NRfyfVOkx"
      },
      "source": [
        "2. Побудувати графік, що відображає розподіл ознак в групах."
      ]
    },
    {
      "cell_type": "code",
      "execution_count": null,
      "metadata": {
        "id": "4MlGn-iEVOkx",
        "outputId": "ea7fc8cf-039d-462e-b857-b23af585cfaa"
      },
      "outputs": [
        {
          "data": {
            "text/plain": [
              "<matplotlib.legend.Legend at 0x27987986eb0>"
            ]
          },
          "execution_count": 27,
          "metadata": {},
          "output_type": "execute_result"
        },
        {
          "data": {
            "image/png": "[encoded data removed]",
            "text/plain": [
              "<Figure size 720x720 with 1 Axes>"
            ]
          },
          "metadata": {
            "needs_background": "light"
          },
          "output_type": "display_data"
        }
      ],
      "source": [
        "width = 0.25\n",
        "x = np.arange(len(my_data))\n",
        "y = [i for i in np.linspace(0,30,10)]\n",
        "fig, ax = plt.subplots(figsize = (10,10))\n",
        "labels = [\"Apple\", \"Nokia\", \"Samsung\"]\n",
        "rects1 = ax.bar(x - width/2, my_data[\"Touchscreen\"], width, label='Touchscreen')\n",
        "rects2 = ax.bar(x + width/2, my_data[\"Bar\"], width, label='Bar')\n",
        "ax.set_title('Compare')\n",
        "ax.set_ylabel('Count')\n",
        "ax.set_xlabel('Manufacturer')\n",
        "ax.set_xticks(x)\n",
        "ax.set_xticklabels(labels)\n",
        "ax.set_yticks(y)\n",
        "ax.legend(title = \"Form\")"
      ]
    },
    {
      "cell_type": "markdown",
      "metadata": {
        "id": "5jnknUkuVOkx"
      },
      "source": [
        "3. Написати функції, що оцінює зв'язок між ознакою та групою за критерієм Пірсона. Функція має оцінювати розбіжність на двох рівнях - 0,001 та 0,05, в залежністі від параметру significant_level, що передається в неї. Врахувати у функції випадок, що сума частот ознаки у групах може бути відмінною."
      ]
    },
    {
      "cell_type": "code",
      "execution_count": null,
      "metadata": {
        "id": "XVsxGfcGVOkx"
      },
      "outputs": [],
      "source": [
        "def Pirson(data, significant_level):\n",
        "    \n",
        "    my_data1 = pd.DataFrame(my_data)\n",
        "    x, y = my_data1.iloc[:,0], my_data1.iloc[:,1]\n",
        "    n = len(my_data)\n",
        "    \n",
        "    if np.sum(x) != np.sum(y):\n",
        "        my_data1[\"ni'\"] = [(i/np.sum(y)*np.sum(x)) for i in y]\n",
        "    my_data1[\"ni - ni'\"] = [(my_data1.iloc[i,0] - my_data1.iloc[i,2]) for i in range(n)]\n",
        "    my_data1[\"(ni - ni')^2/(ni')\"] = [my_data1.iloc[i,3]**2/my_data1.iloc[i,2] for i in range(n)]\n",
        "    x2_emp = round(np.sum(my_data1.iloc[:,4]),3)\n",
        "    print(\"Кінцева таблиця спряженості:\\n\")\n",
        "    print(my_data1)\n",
        "    \n",
        "    print(\"\\nВідповідь:\")\n",
        "    print(\"X^2_emp = \" + str(x2_emp))\n",
        "    print(\"Ступені свободи = \" + str(n-1))\n",
        "    table = pd.read_excel(\"Таблиця критичних значень для критерію Пірсона.xlsx\")\n",
        "    x2_critical = table.iloc[n - 1, 1 if(significant_level == 0.001) else 2]\n",
        "    print(\"X^2 _critical = \" + str(x2_critical))\n",
        "    \n",
        "    if x2_emp > x2_critical:\n",
        "        print(\"Розбіжності між розподіленнями статистично значимі на даному рівні значимості(\",x2_emp,\">\",x2_critical,\")\")\n",
        "    else:\n",
        "        print(\"Розбіжності між розподіленнями немає на даному рівні значимості(\",x2_emp,\"<\",x2_critical,\")\")"
      ]
    },
    {
      "cell_type": "markdown",
      "metadata": {
        "id": "qRS0aUkeVOky"
      },
      "source": [
        "4. Перевірити розбіжність на між групами на даних з п. 1."
      ]
    },
    {
      "cell_type": "markdown",
      "metadata": {
        "id": "nVyB4IhuVOky"
      },
      "source": [
        " * Початкова таблиця спряженості."
      ]
    },
    {
      "cell_type": "code",
      "execution_count": null,
      "metadata": {
        "id": "AsvfxVTUVOky",
        "outputId": "86c14465-f0c2-442b-d2c1-398316d7ea7a"
      },
      "outputs": [
        {
          "data": {
            "text/html": [
              "<div>\n",
              "<style scoped>\n",
              "    .dataframe tbody tr th:only-of-type {\n",
              "        vertical-align: middle;\n",
              "    }\n",
              "\n",
              "    .dataframe tbody tr th {\n",
              "        vertical-align: top;\n",
              "    }\n",
              "\n",
              "    .dataframe thead th {\n",
              "        text-align: right;\n",
              "    }\n",
              "</style>\n",
              "<table border=\"1\" class=\"dataframe\">\n",
              "  <thead>\n",
              "    <tr style=\"text-align: right;\">\n",
              "      <th></th>\n",
              "      <th>Touchscreen</th>\n",
              "      <th>Bar</th>\n",
              "    </tr>\n",
              "  </thead>\n",
              "  <tbody>\n",
              "    <tr>\n",
              "      <th>Apple</th>\n",
              "      <td>7</td>\n",
              "      <td>3</td>\n",
              "    </tr>\n",
              "    <tr>\n",
              "      <th>Nokia</th>\n",
              "      <td>2</td>\n",
              "      <td>16</td>\n",
              "    </tr>\n",
              "    <tr>\n",
              "      <th>Samsung</th>\n",
              "      <td>22</td>\n",
              "      <td>5</td>\n",
              "    </tr>\n",
              "  </tbody>\n",
              "</table>\n",
              "</div>"
            ],
            "text/plain": [
              "         Touchscreen  Bar\n",
              "Apple              7    3\n",
              "Nokia              2   16\n",
              "Samsung           22    5"
            ]
          },
          "execution_count": 29,
          "metadata": {},
          "output_type": "execute_result"
        }
      ],
      "source": [
        "my_data"
      ]
    },
    {
      "cell_type": "markdown",
      "metadata": {
        "id": "4lQKhrziVOky"
      },
      "source": [
        "* Оцінка розбіжності на рівні значення significant_level = 0,001"
      ]
    },
    {
      "cell_type": "code",
      "execution_count": null,
      "metadata": {
        "id": "SPpliUXmVOky",
        "outputId": "6749653e-750e-4e9a-a2db-882a62969299"
      },
      "outputs": [
        {
          "name": "stdout",
          "output_type": "stream",
          "text": [
            "Кінцева таблиця спряженості:\n",
            "\n",
            "         Touchscreen  Bar        ni'   ni - ni'  (ni - ni')^2/(ni')\n",
            "Apple              7    3   3.875000   3.125000            2.520161\n",
            "Nokia              2   16  20.666667 -18.666667           16.860215\n",
            "Samsung           22    5   6.458333  15.541667           37.400269\n",
            "\n",
            "Відповідь:\n",
            "X^2_emp = 56.781\n",
            "Ступені свободи = 2\n",
            "X^2 _critical = 9.2\n",
            "Розбіжності між розподіленнями статистично значимі на даному рівні значимості( 56.781 > 9.2 )\n"
          ]
        }
      ],
      "source": [
        "Pirson(data1, 0.001)"
      ]
    },
    {
      "cell_type": "markdown",
      "metadata": {
        "id": "TwHEcpH-VOky"
      },
      "source": [
        "* Оцінка розбіжності на рівні значення significant_level = 0,05"
      ]
    },
    {
      "cell_type": "code",
      "execution_count": null,
      "metadata": {
        "id": "mJIz4J82VOkz",
        "outputId": "502688be-aa21-4afe-ae82-bec3fa7ccb1a"
      },
      "outputs": [
        {
          "name": "stdout",
          "output_type": "stream",
          "text": [
            "Кінцева таблиця спряженості:\n",
            "\n",
            "         Touchscreen  Bar        ni'   ni - ni'  (ni - ni')^2/(ni')\n",
            "Apple              7    3   3.875000   3.125000            2.520161\n",
            "Nokia              2   16  20.666667 -18.666667           16.860215\n",
            "Samsung           22    5   6.458333  15.541667           37.400269\n",
            "\n",
            "Відповідь:\n",
            "X^2_emp = 56.781\n",
            "Ступені свободи = 2\n",
            "X^2 _critical = 6\n",
            "Розбіжності між розподіленнями статистично значимі на даному рівні значимості( 56.781 > 6 )\n"
          ]
        }
      ],
      "source": [
        "Pirson(data1, 0.05)"
      ]
    },
    {
      "cell_type": "markdown",
      "metadata": {
        "id": "HvKJQbrVVOkz"
      },
      "source": [
        "* Додати до таблиці стовбчики з відсотовим розподілом по градаціям всередині груп. Окремо вивести результати роботи критерію (чи є статистична розбіжність між групами)."
      ]
    },
    {
      "cell_type": "code",
      "execution_count": null,
      "metadata": {
        "id": "wu3yxgaYVOkz",
        "outputId": "209c1d47-2230-4a90-8022-d81eda5b9452"
      },
      "outputs": [
        {
          "data": {
            "text/html": [
              "<div>\n",
              "<style scoped>\n",
              "    .dataframe tbody tr th:only-of-type {\n",
              "        vertical-align: middle;\n",
              "    }\n",
              "\n",
              "    .dataframe tbody tr th {\n",
              "        vertical-align: top;\n",
              "    }\n",
              "\n",
              "    .dataframe thead th {\n",
              "        text-align: right;\n",
              "    }\n",
              "</style>\n",
              "<table border=\"1\" class=\"dataframe\">\n",
              "  <thead>\n",
              "    <tr style=\"text-align: right;\">\n",
              "      <th></th>\n",
              "      <th>Touchscreen</th>\n",
              "      <th>Bar</th>\n",
              "      <th>Touchscreen_percent</th>\n",
              "      <th>Bar_percent</th>\n",
              "    </tr>\n",
              "  </thead>\n",
              "  <tbody>\n",
              "    <tr>\n",
              "      <th>Apple</th>\n",
              "      <td>7</td>\n",
              "      <td>3</td>\n",
              "      <td>22.6%</td>\n",
              "      <td>12.5%</td>\n",
              "    </tr>\n",
              "    <tr>\n",
              "      <th>Nokia</th>\n",
              "      <td>2</td>\n",
              "      <td>16</td>\n",
              "      <td>6.5%</td>\n",
              "      <td>66.7%</td>\n",
              "    </tr>\n",
              "    <tr>\n",
              "      <th>Samsung</th>\n",
              "      <td>22</td>\n",
              "      <td>5</td>\n",
              "      <td>71.0%</td>\n",
              "      <td>20.8%</td>\n",
              "    </tr>\n",
              "  </tbody>\n",
              "</table>\n",
              "</div>"
            ],
            "text/plain": [
              "         Touchscreen  Bar Touchscreen_percent Bar_percent\n",
              "Apple              7    3               22.6%       12.5%\n",
              "Nokia              2   16                6.5%       66.7%\n",
              "Samsung           22    5               71.0%       20.8%"
            ]
          },
          "execution_count": 32,
          "metadata": {},
          "output_type": "execute_result"
        }
      ],
      "source": [
        "new_data = pd.DataFrame({\n",
        "    \"Touchscreen\": [0 for i in range(3)],\n",
        "    \"Bar\": [0 for i in range(3)],\n",
        "    \"Touchscreen_percent\": [0 for i in range(3)],\n",
        "    \"Bar_percent\": [0 for i in range(3)],\n",
        "}, index = [\"Apple\", \"Nokia\", \"Samsung\"])\n",
        "\n",
        "for i in range (len(data)):\n",
        "    if data[\"form\"][i] == \"Touchscreen\":\n",
        "        new_data[\"Touchscreen\"][data[\"manufacturer\"][i]] += 1\n",
        "    else:\n",
        "        new_data[\"Bar\"][data[\"manufacturer\"][i]] += 1\n",
        "        \n",
        "for i in range(0, len(new_data)):\n",
        "    new_data.iloc[i,2] = str(round(new_data[\"Touchscreen\"][i]/np.sum(new_data[\"Touchscreen\"])*100,1)) + \"%\"\n",
        "    new_data.iloc[i,3] = str(round(new_data[\"Bar\"][i]/np.sum(new_data[\"Bar\"])*100,1)) + \"%\"\n",
        "    \n",
        "new_data"
      ]
    },
    {
      "cell_type": "code",
      "execution_count": null,
      "metadata": {
        "id": "5M-3zP6tVOkz"
      },
      "outputs": [],
      "source": []
    }
  ],
  "metadata": {
    "colab": {
      "provenance": [],
      "include_colab_link": true
    },
    "kernelspec": {
      "display_name": "Python 3 (ipykernel)",
      "language": "python",
      "name": "python3"
    },
    "language_info": {
      "codemirror_mode": {
        "name": "ipython",
        "version": 3
      },
      "file_extension": ".py",
      "mimetype": "text/x-python",
      "name": "python",
      "nbconvert_exporter": "python",
      "pygments_lexer": "ipython3",
      "version": "3.9.7"
    }
  },
  "nbformat": 4,
  "nbformat_minor": 0
}