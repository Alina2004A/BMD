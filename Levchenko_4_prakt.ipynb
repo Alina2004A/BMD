{
  "cells": [
    {
      "cell_type": "markdown",
      "metadata": {
        "id": "view-in-github",
        "colab_type": "text"
      },
      "source": [
        "<a href=\"https://colab.research.google.com/github/Alina2004A/BMD/blob/main/Levchenko_4_prakt.ipynb\" target=\"_parent\"><img src=\"https://colab.research.google.com/assets/colab-badge.svg\" alt=\"Open In Colab\"/></a>"
      ]
    },
    {
      "cell_type": "markdown",
      "metadata": {
        "id": "2EyOSpkMJkLm"
      },
      "source": [
        "<h1>4 практична</h1>\n",
        "<p><font size=10>Левченко БС-11</font></p>\n",
        "\n",
        "\n"
      ]
    },
    {
      "cell_type": "code",
      "execution_count": null,
      "metadata": {
        "id": "7IHpHU4kUYHk"
      },
      "outputs": [],
      "source": [
        "import numpy as np\n",
        "import pandas as pd\n",
        "import matplotlib.pyplot as plt\n",
        "import matplotlib.backends.backend_pdf"
      ]
    },
    {
      "cell_type": "markdown",
      "metadata": {
        "id": "5PcijeprNVJF"
      },
      "source": [
        " \n",
        "\n",
        "1.   Сгенеруйте набір даних, що містить не менше 6 змінних. Частину змінних згенеруйте за нормальний розподілом, частину - за будь-яким іншим розподілом. Кількість спостережень - 20.\n",
        "\n",
        "\n",
        "\n",
        "\n"
      ]
    },
    {
      "cell_type": "code",
      "execution_count": null,
      "metadata": {
        "id": "dIFfb6mnUYHm",
        "outputId": "ace0ac90-6e0a-4ec0-8693-456d856b4bcf"
      },
      "outputs": [
        {
          "name": "stdout",
          "output_type": "stream",
          "text": [
            "\n",
            " [-0.0412023  -0.06722001  0.1498196  -0.09876209 -0.10664415 -0.21003418\n",
            " -0.117628   -0.16914663  0.02564399 -0.07546905 -0.25602973  0.03362377\n",
            " -0.05423172 -0.16577322  0.02069277  0.12628357 -0.06723439 -0.06358216\n",
            " -0.02289758 -0.05365089]\n",
            "\n",
            " [ 0.01448914 -0.0612991  -0.12471692  0.03315205  0.10515474 -0.03682549\n",
            " -0.13147829 -0.11005587 -0.10078477 -0.07620622 -0.17989289 -0.18096166\n",
            "  0.00965201  0.15719154  0.04879141 -0.0965567  -0.07215961  0.13098381\n",
            " -0.04672701 -0.10759519]\n",
            "\n",
            " [-0.06166367 -0.08148049 -0.04834082 -0.13945181  0.16572388  0.08246041\n",
            "  0.01160262  0.08540327 -0.1758519   0.11588234  0.07152257 -0.08472388\n",
            " -0.15285004  0.08652993 -0.0528095  -0.0011945  -0.19661051 -0.01294828\n",
            "  0.0845392   0.03898022]\n",
            "\n",
            " [0.30072298 0.36470282 0.46187214 0.88356637 0.24409282 0.20280771\n",
            " 0.13666229 0.17833714 0.54087874 0.26535121 0.60025367 0.7525667\n",
            " 0.36109967 0.49202123 0.51903443 0.69717652 0.34255903 0.45422338\n",
            " 0.52332496 0.75921168]\n",
            "\n",
            " [0.39493165 0.5755307  0.10397102 0.18856929 0.75982278 0.17707684\n",
            " 0.58580873 0.52097947 0.2038398  0.44333438 0.10534436 0.95476866\n",
            " 0.86668837 0.92323004 0.78157468 0.60821668 0.78161341 0.66572615\n",
            " 0.25191987 0.21805762]\n",
            "\n",
            " [0.30068425 0.38591271 0.58913651 0.0525948  0.76704515 0.50366641\n",
            " 0.60494133 0.86633073 0.66745103 0.40702118 0.3111906  0.98907281\n",
            " 0.36284462 0.54895384 0.33394376 0.32145544 0.85343565 0.49611855\n",
            " 0.06381637 0.31957011]\n"
          ]
        }
      ],
      "source": [
        "my_data = []\n",
        "for i in range(6):\n",
        "    if i < 3:\n",
        "        my_data.append(np.random.normal(0,0.1,20))\n",
        "    else:\n",
        "        my_data.append(np.random.power(1,20))\n",
        "for i in my_data:\n",
        "        print('\\n', i, end = '\\n')"
      ]
    },
    {
      "cell_type": "markdown",
      "metadata": {
        "id": "TZ6nEDt-J6Sw"
      },
      "source": [
        "2.   Створіть функцію, що реалізує критерій Шапіро-Уілка та застосуйте її до кожної змінної набору данних.\n",
        "Детальний опис роботи критерію та приклад його розрахунку (с. 606):\n",
        "https://pdfs.semanticscholar.org/e4a7/42a4f0585b4e4069726f6628f4d4285a0827.pdf\n",
        "\n"
      ]
    },
    {
      "cell_type": "code",
      "execution_count": null,
      "metadata": {
        "id": "STvusWv5UYHm"
      },
      "outputs": [],
      "source": [
        "#coeficients"
      ]
    },
    {
      "cell_type": "code",
      "execution_count": null,
      "metadata": {
        "id": "8oks0-2AUYHn",
        "outputId": "6ed0d08b-db79-438e-c905-8a2edf469313"
      },
      "outputs": [
        {
          "data": {
            "text/html": [
              "<div>\n",
              "<style scoped>\n",
              "    .dataframe tbody tr th:only-of-type {\n",
              "        vertical-align: middle;\n",
              "    }\n",
              "\n",
              "    .dataframe tbody tr th {\n",
              "        vertical-align: top;\n",
              "    }\n",
              "\n",
              "    .dataframe thead th {\n",
              "        text-align: right;\n",
              "    }\n",
              "</style>\n",
              "<table border=\"1\" class=\"dataframe\">\n",
              "  <thead>\n",
              "    <tr style=\"text-align: right;\">\n",
              "      <th></th>\n",
              "      <th>i\\n</th>\n",
              "      <th>2.0</th>\n",
              "      <th>3.0</th>\n",
              "      <th>4.0</th>\n",
              "      <th>5.0</th>\n",
              "      <th>6.0</th>\n",
              "      <th>7.0</th>\n",
              "      <th>8.0</th>\n",
              "      <th>9.0</th>\n",
              "      <th>10.0</th>\n",
              "      <th>...</th>\n",
              "      <th>41.0</th>\n",
              "      <th>42.0</th>\n",
              "      <th>43.0</th>\n",
              "      <th>44.0</th>\n",
              "      <th>45.0</th>\n",
              "      <th>46.0</th>\n",
              "      <th>47.0</th>\n",
              "      <th>48.0</th>\n",
              "      <th>49.0</th>\n",
              "      <th>50.0</th>\n",
              "    </tr>\n",
              "  </thead>\n",
              "  <tbody>\n",
              "    <tr>\n",
              "      <th>0</th>\n",
              "      <td>1.0</td>\n",
              "      <td>0.7071</td>\n",
              "      <td>0.7071</td>\n",
              "      <td>0.6872</td>\n",
              "      <td>0.6646</td>\n",
              "      <td>0.6431</td>\n",
              "      <td>0.6233</td>\n",
              "      <td>0.6052</td>\n",
              "      <td>0.5888</td>\n",
              "      <td>0.5739</td>\n",
              "      <td>...</td>\n",
              "      <td>0.3940</td>\n",
              "      <td>0.3917</td>\n",
              "      <td>0.3894</td>\n",
              "      <td>0.3872</td>\n",
              "      <td>0.3850</td>\n",
              "      <td>0.3830</td>\n",
              "      <td>0.3808</td>\n",
              "      <td>0.3789</td>\n",
              "      <td>0.3770</td>\n",
              "      <td>0.3751</td>\n",
              "    </tr>\n",
              "    <tr>\n",
              "      <th>1</th>\n",
              "      <td>2.0</td>\n",
              "      <td>NaN</td>\n",
              "      <td>NaN</td>\n",
              "      <td>0.1677</td>\n",
              "      <td>0.2413</td>\n",
              "      <td>0.2806</td>\n",
              "      <td>0.3031</td>\n",
              "      <td>0.3164</td>\n",
              "      <td>0.3244</td>\n",
              "      <td>0.3291</td>\n",
              "      <td>...</td>\n",
              "      <td>0.2719</td>\n",
              "      <td>0.2701</td>\n",
              "      <td>0.2684</td>\n",
              "      <td>0.2667</td>\n",
              "      <td>0.2651</td>\n",
              "      <td>0.2635</td>\n",
              "      <td>0.2620</td>\n",
              "      <td>0.2604</td>\n",
              "      <td>0.2589</td>\n",
              "      <td>0.2574</td>\n",
              "    </tr>\n",
              "    <tr>\n",
              "      <th>2</th>\n",
              "      <td>3.0</td>\n",
              "      <td>NaN</td>\n",
              "      <td>NaN</td>\n",
              "      <td>NaN</td>\n",
              "      <td>NaN</td>\n",
              "      <td>0.0875</td>\n",
              "      <td>0.1401</td>\n",
              "      <td>0.1743</td>\n",
              "      <td>0.1976</td>\n",
              "      <td>0.2141</td>\n",
              "      <td>...</td>\n",
              "      <td>0.2357</td>\n",
              "      <td>0.2345</td>\n",
              "      <td>0.2334</td>\n",
              "      <td>0.2323</td>\n",
              "      <td>0.2313</td>\n",
              "      <td>0.2302</td>\n",
              "      <td>0.2291</td>\n",
              "      <td>0.2281</td>\n",
              "      <td>0.2271</td>\n",
              "      <td>0.2260</td>\n",
              "    </tr>\n",
              "    <tr>\n",
              "      <th>3</th>\n",
              "      <td>4.0</td>\n",
              "      <td>NaN</td>\n",
              "      <td>NaN</td>\n",
              "      <td>NaN</td>\n",
              "      <td>NaN</td>\n",
              "      <td>NaN</td>\n",
              "      <td>NaN</td>\n",
              "      <td>0.0561</td>\n",
              "      <td>0.0947</td>\n",
              "      <td>0.1224</td>\n",
              "      <td>...</td>\n",
              "      <td>0.2091</td>\n",
              "      <td>0.2085</td>\n",
              "      <td>0.2078</td>\n",
              "      <td>0.2072</td>\n",
              "      <td>0.2065</td>\n",
              "      <td>0.2058</td>\n",
              "      <td>0.2052</td>\n",
              "      <td>0.2045</td>\n",
              "      <td>0.2038</td>\n",
              "      <td>0.2032</td>\n",
              "    </tr>\n",
              "    <tr>\n",
              "      <th>4</th>\n",
              "      <td>5.0</td>\n",
              "      <td>NaN</td>\n",
              "      <td>NaN</td>\n",
              "      <td>NaN</td>\n",
              "      <td>NaN</td>\n",
              "      <td>NaN</td>\n",
              "      <td>NaN</td>\n",
              "      <td>NaN</td>\n",
              "      <td>NaN</td>\n",
              "      <td>0.0399</td>\n",
              "      <td>...</td>\n",
              "      <td>0.1876</td>\n",
              "      <td>0.1874</td>\n",
              "      <td>0.1871</td>\n",
              "      <td>0.1868</td>\n",
              "      <td>0.1865</td>\n",
              "      <td>0.1862</td>\n",
              "      <td>0.1859</td>\n",
              "      <td>0.1855</td>\n",
              "      <td>0.1851</td>\n",
              "      <td>0.1847</td>\n",
              "    </tr>\n",
              "  </tbody>\n",
              "</table>\n",
              "<p>5 rows × 50 columns</p>\n",
              "</div>"
            ],
            "text/plain": [
              "   i\\n     2.0     3.0     4.0     5.0     6.0     7.0     8.0     9.0  \\\n",
              "0  1.0  0.7071  0.7071  0.6872  0.6646  0.6431  0.6233  0.6052  0.5888   \n",
              "1  2.0     NaN     NaN  0.1677  0.2413  0.2806  0.3031  0.3164  0.3244   \n",
              "2  3.0     NaN     NaN     NaN     NaN  0.0875  0.1401  0.1743  0.1976   \n",
              "3  4.0     NaN     NaN     NaN     NaN     NaN     NaN  0.0561  0.0947   \n",
              "4  5.0     NaN     NaN     NaN     NaN     NaN     NaN     NaN     NaN   \n",
              "\n",
              "     10.0  ...    41.0    42.0    43.0    44.0    45.0    46.0    47.0  \\\n",
              "0  0.5739  ...  0.3940  0.3917  0.3894  0.3872  0.3850  0.3830  0.3808   \n",
              "1  0.3291  ...  0.2719  0.2701  0.2684  0.2667  0.2651  0.2635  0.2620   \n",
              "2  0.2141  ...  0.2357  0.2345  0.2334  0.2323  0.2313  0.2302  0.2291   \n",
              "3  0.1224  ...  0.2091  0.2085  0.2078  0.2072  0.2065  0.2058  0.2052   \n",
              "4  0.0399  ...  0.1876  0.1874  0.1871  0.1868  0.1865  0.1862  0.1859   \n",
              "\n",
              "     48.0    49.0    50.0  \n",
              "0  0.3789  0.3770  0.3751  \n",
              "1  0.2604  0.2589  0.2574  \n",
              "2  0.2281  0.2271  0.2260  \n",
              "3  0.2045  0.2038  0.2032  \n",
              "4  0.1855  0.1851  0.1847  \n",
              "\n",
              "[5 rows x 50 columns]"
            ]
          },
          "execution_count": 3,
          "metadata": {},
          "output_type": "execute_result"
        }
      ],
      "source": [
        "coefs = pd.read_excel(\"Coeficients for the W test for normality.xlsx\")\n",
        "coefs.head()"
      ]
    },
    {
      "cell_type": "code",
      "execution_count": null,
      "metadata": {
        "id": "CC_HMvtbUYHn"
      },
      "outputs": [],
      "source": [
        "#points"
      ]
    },
    {
      "cell_type": "code",
      "execution_count": null,
      "metadata": {
        "id": "5G6gfE9RUYHn",
        "outputId": "cd8562cd-6544-416c-91d4-9edfcb1d7596"
      },
      "outputs": [
        {
          "data": {
            "text/html": [
              "<div>\n",
              "<style scoped>\n",
              "    .dataframe tbody tr th:only-of-type {\n",
              "        vertical-align: middle;\n",
              "    }\n",
              "\n",
              "    .dataframe tbody tr th {\n",
              "        vertical-align: top;\n",
              "    }\n",
              "\n",
              "    .dataframe thead th {\n",
              "        text-align: right;\n",
              "    }\n",
              "</style>\n",
              "<table border=\"1\" class=\"dataframe\">\n",
              "  <thead>\n",
              "    <tr style=\"text-align: right;\">\n",
              "      <th></th>\n",
              "      <th>n</th>\n",
              "      <th>0-5</th>\n",
              "    </tr>\n",
              "  </thead>\n",
              "  <tbody>\n",
              "    <tr>\n",
              "      <th>0</th>\n",
              "      <td>3.0</td>\n",
              "      <td>0.767</td>\n",
              "    </tr>\n",
              "    <tr>\n",
              "      <th>1</th>\n",
              "      <td>4.0</td>\n",
              "      <td>0.748</td>\n",
              "    </tr>\n",
              "    <tr>\n",
              "      <th>2</th>\n",
              "      <td>5.0</td>\n",
              "      <td>0.762</td>\n",
              "    </tr>\n",
              "    <tr>\n",
              "      <th>3</th>\n",
              "      <td>6.0</td>\n",
              "      <td>0.788</td>\n",
              "    </tr>\n",
              "    <tr>\n",
              "      <th>4</th>\n",
              "      <td>7.0</td>\n",
              "      <td>0.803</td>\n",
              "    </tr>\n",
              "  </tbody>\n",
              "</table>\n",
              "</div>"
            ],
            "text/plain": [
              "     n    0-5\n",
              "0  3.0  0.767\n",
              "1  4.0  0.748\n",
              "2  5.0  0.762\n",
              "3  6.0  0.788\n",
              "4  7.0  0.803"
            ]
          },
          "execution_count": 4,
          "metadata": {},
          "output_type": "execute_result"
        }
      ],
      "source": [
        "points = pd.read_excel(\"Рoints of the distribution of W.xlsx\")\n",
        "points.head()"
      ]
    },
    {
      "cell_type": "code",
      "execution_count": null,
      "metadata": {
        "id": "s45kpg5FUYHn"
      },
      "outputs": [],
      "source": [
        "def Shapiro(dt):\n",
        "    dt = sorted(dt)\n",
        "    n = len(dt)\n",
        "    \n",
        "    b, S2, k = 0, 0, 0\n",
        "    arr = np.zeros(n)\n",
        "    coef = coefs[n]\n",
        "    m = n-1\n",
        "    \n",
        "    mean = np.mean(dt)\n",
        "    for i in range(n):\n",
        "        arr[m] = coef[i]\n",
        "        S2 += (dt[i] - mean)**2\n",
        "        m -= 1\n",
        "        \n",
        "    if n%2 == 0:\n",
        "        k = int(n/2)\n",
        "    else:\n",
        "        k = int(n/2) - 1\n",
        "        \n",
        "    for i in range(k):\n",
        "        b += arr[m] * (dt[m] - dt[i])\n",
        "        m -= 1\n",
        "        \n",
        "    W = (b**2) / S2\n",
        "    point = points.loc[points.n == n]\n",
        "    if W >= (point.iloc[0, 1]):\n",
        "        return \"normal\"\n",
        "    else:\n",
        "        return \"non-normal\""
      ]
    },
    {
      "cell_type": "markdown",
      "metadata": {
        "id": "1db-l1XakhYS"
      },
      "source": [
        "3. Сгенеруйте пусту таблицю, в якій кількість рядків - це кількість змінних + 1. Кількість стовбчиків - 3. Назва стовпчиків - Variable, Statistics, Distribution.\n",
        "Шаблон таблиці:\n",
        "https://drive.google.com/open?id=1nT1PwM3cj6VuJa8vkjdsBuNNVoDyGncZ"
      ]
    },
    {
      "cell_type": "code",
      "execution_count": null,
      "metadata": {
        "id": "VPtLC7sYUYHo",
        "outputId": "9d1bb736-7953-44eb-85f4-e9285cdda1e7"
      },
      "outputs": [
        {
          "data": {
            "text/html": [
              "<div>\n",
              "<style scoped>\n",
              "    .dataframe tbody tr th:only-of-type {\n",
              "        vertical-align: middle;\n",
              "    }\n",
              "\n",
              "    .dataframe tbody tr th {\n",
              "        vertical-align: top;\n",
              "    }\n",
              "\n",
              "    .dataframe thead th {\n",
              "        text-align: right;\n",
              "    }\n",
              "</style>\n",
              "<table border=\"1\" class=\"dataframe\">\n",
              "  <thead>\n",
              "    <tr style=\"text-align: right;\">\n",
              "      <th></th>\n",
              "      <th>Variable</th>\n",
              "      <th>Statistics</th>\n",
              "      <th>Distribution</th>\n",
              "    </tr>\n",
              "  </thead>\n",
              "  <tbody>\n",
              "    <tr>\n",
              "      <th>0</th>\n",
              "      <td>NaN</td>\n",
              "      <td>NaN</td>\n",
              "      <td>NaN</td>\n",
              "    </tr>\n",
              "    <tr>\n",
              "      <th>1</th>\n",
              "      <td>NaN</td>\n",
              "      <td>NaN</td>\n",
              "      <td>NaN</td>\n",
              "    </tr>\n",
              "    <tr>\n",
              "      <th>2</th>\n",
              "      <td>NaN</td>\n",
              "      <td>NaN</td>\n",
              "      <td>NaN</td>\n",
              "    </tr>\n",
              "    <tr>\n",
              "      <th>3</th>\n",
              "      <td>NaN</td>\n",
              "      <td>NaN</td>\n",
              "      <td>NaN</td>\n",
              "    </tr>\n",
              "    <tr>\n",
              "      <th>4</th>\n",
              "      <td>NaN</td>\n",
              "      <td>NaN</td>\n",
              "      <td>NaN</td>\n",
              "    </tr>\n",
              "    <tr>\n",
              "      <th>5</th>\n",
              "      <td>NaN</td>\n",
              "      <td>NaN</td>\n",
              "      <td>NaN</td>\n",
              "    </tr>\n",
              "  </tbody>\n",
              "</table>\n",
              "</div>"
            ],
            "text/plain": [
              "  Variable Statistics Distribution\n",
              "0      NaN        NaN          NaN\n",
              "1      NaN        NaN          NaN\n",
              "2      NaN        NaN          NaN\n",
              "3      NaN        NaN          NaN\n",
              "4      NaN        NaN          NaN\n",
              "5      NaN        NaN          NaN"
            ]
          },
          "execution_count": 13,
          "metadata": {},
          "output_type": "execute_result"
        }
      ],
      "source": [
        "my_df = pd.DataFrame(index=np.arange(6), columns=(['Variable','Statistics', 'Distribution']))\n",
        "my_df"
      ]
    },
    {
      "cell_type": "markdown",
      "metadata": {
        "id": "Gt4u5fI5mHw7"
      },
      "source": [
        "4. Занести в стовпчик Variable назви змінних."
      ]
    },
    {
      "cell_type": "code",
      "execution_count": null,
      "metadata": {
        "id": "g8SwEcjGUYHo",
        "outputId": "78f4a3f5-e8cb-4121-ddec-1d71fcaf9e1a"
      },
      "outputs": [
        {
          "data": {
            "text/html": [
              "<div>\n",
              "<style scoped>\n",
              "    .dataframe tbody tr th:only-of-type {\n",
              "        vertical-align: middle;\n",
              "    }\n",
              "\n",
              "    .dataframe tbody tr th {\n",
              "        vertical-align: top;\n",
              "    }\n",
              "\n",
              "    .dataframe thead th {\n",
              "        text-align: right;\n",
              "    }\n",
              "</style>\n",
              "<table border=\"1\" class=\"dataframe\">\n",
              "  <thead>\n",
              "    <tr style=\"text-align: right;\">\n",
              "      <th></th>\n",
              "      <th>Variable</th>\n",
              "      <th>Statistics</th>\n",
              "      <th>Distribution</th>\n",
              "    </tr>\n",
              "  </thead>\n",
              "  <tbody>\n",
              "    <tr>\n",
              "      <th>0</th>\n",
              "      <td>Normal</td>\n",
              "      <td>NaN</td>\n",
              "      <td>NaN</td>\n",
              "    </tr>\n",
              "    <tr>\n",
              "      <th>1</th>\n",
              "      <td>Normal</td>\n",
              "      <td>NaN</td>\n",
              "      <td>NaN</td>\n",
              "    </tr>\n",
              "    <tr>\n",
              "      <th>2</th>\n",
              "      <td>Normal</td>\n",
              "      <td>NaN</td>\n",
              "      <td>NaN</td>\n",
              "    </tr>\n",
              "    <tr>\n",
              "      <th>3</th>\n",
              "      <td>Power</td>\n",
              "      <td>NaN</td>\n",
              "      <td>NaN</td>\n",
              "    </tr>\n",
              "    <tr>\n",
              "      <th>4</th>\n",
              "      <td>Power</td>\n",
              "      <td>NaN</td>\n",
              "      <td>NaN</td>\n",
              "    </tr>\n",
              "    <tr>\n",
              "      <th>5</th>\n",
              "      <td>Power</td>\n",
              "      <td>NaN</td>\n",
              "      <td>NaN</td>\n",
              "    </tr>\n",
              "  </tbody>\n",
              "</table>\n",
              "</div>"
            ],
            "text/plain": [
              "  Variable Statistics Distribution\n",
              "0   Normal        NaN          NaN\n",
              "1   Normal        NaN          NaN\n",
              "2   Normal        NaN          NaN\n",
              "3    Power        NaN          NaN\n",
              "4    Power        NaN          NaN\n",
              "5    Power        NaN          NaN"
            ]
          },
          "execution_count": 14,
          "metadata": {},
          "output_type": "execute_result"
        }
      ],
      "source": [
        "for i in range(6):\n",
        "    if i < 3:\n",
        "        my_df.Variable[i] = \"Normal\"\n",
        "    else:\n",
        "         my_df.Variable[i] = \"Power\"\n",
        "my_df"
      ]
    },
    {
      "cell_type": "markdown",
      "metadata": {
        "id": "VDPx0OrJmKMq"
      },
      "source": [
        "5. Занести в стовпчик Distribution результати роботи криетрію Шапіро-Уілка. Для змінних, які розподілені за нормальним законом вносити \"normal\", в протилежному вигляді - \"non-normal\"."
      ]
    },
    {
      "cell_type": "code",
      "execution_count": null,
      "metadata": {
        "id": "iGGOGPY6UYHp",
        "outputId": "ae3de3f4-3bf9-4ae4-9501-ae567145964b"
      },
      "outputs": [
        {
          "data": {
            "text/html": [
              "<div>\n",
              "<style scoped>\n",
              "    .dataframe tbody tr th:only-of-type {\n",
              "        vertical-align: middle;\n",
              "    }\n",
              "\n",
              "    .dataframe tbody tr th {\n",
              "        vertical-align: top;\n",
              "    }\n",
              "\n",
              "    .dataframe thead th {\n",
              "        text-align: right;\n",
              "    }\n",
              "</style>\n",
              "<table border=\"1\" class=\"dataframe\">\n",
              "  <thead>\n",
              "    <tr style=\"text-align: right;\">\n",
              "      <th></th>\n",
              "      <th>Variable</th>\n",
              "      <th>Statistics</th>\n",
              "      <th>Distribution</th>\n",
              "    </tr>\n",
              "  </thead>\n",
              "  <tbody>\n",
              "    <tr>\n",
              "      <th>0</th>\n",
              "      <td>Normal</td>\n",
              "      <td>NaN</td>\n",
              "      <td>normal</td>\n",
              "    </tr>\n",
              "    <tr>\n",
              "      <th>1</th>\n",
              "      <td>Normal</td>\n",
              "      <td>NaN</td>\n",
              "      <td>normal</td>\n",
              "    </tr>\n",
              "    <tr>\n",
              "      <th>2</th>\n",
              "      <td>Normal</td>\n",
              "      <td>NaN</td>\n",
              "      <td>normal</td>\n",
              "    </tr>\n",
              "    <tr>\n",
              "      <th>3</th>\n",
              "      <td>Power</td>\n",
              "      <td>NaN</td>\n",
              "      <td>non-normal</td>\n",
              "    </tr>\n",
              "    <tr>\n",
              "      <th>4</th>\n",
              "      <td>Power</td>\n",
              "      <td>NaN</td>\n",
              "      <td>normal</td>\n",
              "    </tr>\n",
              "    <tr>\n",
              "      <th>5</th>\n",
              "      <td>Power</td>\n",
              "      <td>NaN</td>\n",
              "      <td>normal</td>\n",
              "    </tr>\n",
              "  </tbody>\n",
              "</table>\n",
              "</div>"
            ],
            "text/plain": [
              "  Variable Statistics Distribution\n",
              "0   Normal        NaN       normal\n",
              "1   Normal        NaN       normal\n",
              "2   Normal        NaN       normal\n",
              "3    Power        NaN   non-normal\n",
              "4    Power        NaN       normal\n",
              "5    Power        NaN       normal"
            ]
          },
          "execution_count": 15,
          "metadata": {},
          "output_type": "execute_result"
        }
      ],
      "source": [
        "my_dt = pd.DataFrame(my_data)\n",
        "m = my_dt.shape[0]\n",
        "sarr = [0] * m\n",
        "\n",
        "for i in range(m):\n",
        "    sarr[i] = Shapiro(my_dt.iloc[:, i])\n",
        "sarr = np.asarray(sarr)\n",
        "\n",
        "my_df.Distribution = sarr\n",
        "my_df"
      ]
    },
    {
      "cell_type": "markdown",
      "metadata": {
        "id": "tNL5-LWjmgN_"
      },
      "source": [
        "6. Розрахувати для всіх змінних, що розподілені за нормальним законом розрахувати середне значення та стандартне відхилення. Записати в таблицю. Форма запису: Середнє [стандартне відхилення].\n",
        "\n"
      ]
    },
    {
      "cell_type": "code",
      "execution_count": null,
      "metadata": {
        "id": "Hjn2eTbYUYHp",
        "outputId": "bfc1ffce-c3bf-4c50-9c18-1f8b506bb445"
      },
      "outputs": [
        {
          "data": {
            "text/html": [
              "<div>\n",
              "<style scoped>\n",
              "    .dataframe tbody tr th:only-of-type {\n",
              "        vertical-align: middle;\n",
              "    }\n",
              "\n",
              "    .dataframe tbody tr th {\n",
              "        vertical-align: top;\n",
              "    }\n",
              "\n",
              "    .dataframe thead th {\n",
              "        text-align: right;\n",
              "    }\n",
              "</style>\n",
              "<table border=\"1\" class=\"dataframe\">\n",
              "  <thead>\n",
              "    <tr style=\"text-align: right;\">\n",
              "      <th></th>\n",
              "      <th>Variable</th>\n",
              "      <th>Statistics</th>\n",
              "      <th>Distribution</th>\n",
              "    </tr>\n",
              "  </thead>\n",
              "  <tbody>\n",
              "    <tr>\n",
              "      <th>0</th>\n",
              "      <td>Normal</td>\n",
              "      <td>0.151 [0.185]</td>\n",
              "      <td>normal</td>\n",
              "    </tr>\n",
              "    <tr>\n",
              "      <th>1</th>\n",
              "      <td>Normal</td>\n",
              "      <td>0.186 [0.265]</td>\n",
              "      <td>normal</td>\n",
              "    </tr>\n",
              "    <tr>\n",
              "      <th>2</th>\n",
              "      <td>Normal</td>\n",
              "      <td>0.189 [0.258]</td>\n",
              "      <td>normal</td>\n",
              "    </tr>\n",
              "    <tr>\n",
              "      <th>3</th>\n",
              "      <td>Power</td>\n",
              "      <td>NaN</td>\n",
              "      <td>non-normal</td>\n",
              "    </tr>\n",
              "    <tr>\n",
              "      <th>4</th>\n",
              "      <td>Power</td>\n",
              "      <td>0.323 [0.329]</td>\n",
              "      <td>normal</td>\n",
              "    </tr>\n",
              "    <tr>\n",
              "      <th>5</th>\n",
              "      <td>Power</td>\n",
              "      <td>0.120 [0.221]</td>\n",
              "      <td>normal</td>\n",
              "    </tr>\n",
              "  </tbody>\n",
              "</table>\n",
              "</div>"
            ],
            "text/plain": [
              "  Variable     Statistics Distribution\n",
              "0   Normal  0.151 [0.185]       normal\n",
              "1   Normal  0.186 [0.265]       normal\n",
              "2   Normal  0.189 [0.258]       normal\n",
              "3    Power            NaN   non-normal\n",
              "4    Power  0.323 [0.329]       normal\n",
              "5    Power  0.120 [0.221]       normal"
            ]
          },
          "execution_count": 16,
          "metadata": {},
          "output_type": "execute_result"
        }
      ],
      "source": [
        "for i in range(m):\n",
        "    if sarr[i] == \"normal\":\n",
        "        mean = np.round(np.mean(my_dt.iloc[:, i]), 6)\n",
        "        std = np.round(np.std(my_dt.iloc[:, i]), 6)\n",
        "        my_df.Statistics[i] = \"%.3f [%.3f]\" % (mean, std)\n",
        "my_df"
      ]
    },
    {
      "cell_type": "markdown",
      "metadata": {
        "id": "yNpJG4jLm6HR"
      },
      "source": [
        "7. Розрахувати для всіх змінних, що розподілені за розподілом відсутнім від нормального розрахувати медіану та інтерквартильний розмах. Записати в таблицю. Форма запису: Медіана [25%; 75%]."
      ]
    },
    {
      "cell_type": "code",
      "execution_count": null,
      "metadata": {
        "id": "RiEsIKXtUYHp",
        "outputId": "c31cd8ff-a3f3-4241-de23-4e1e7dfd6ae5"
      },
      "outputs": [
        {
          "data": {
            "text/html": [
              "<div>\n",
              "<style scoped>\n",
              "    .dataframe tbody tr th:only-of-type {\n",
              "        vertical-align: middle;\n",
              "    }\n",
              "\n",
              "    .dataframe tbody tr th {\n",
              "        vertical-align: top;\n",
              "    }\n",
              "\n",
              "    .dataframe thead th {\n",
              "        text-align: right;\n",
              "    }\n",
              "</style>\n",
              "<table border=\"1\" class=\"dataframe\">\n",
              "  <thead>\n",
              "    <tr style=\"text-align: right;\">\n",
              "      <th></th>\n",
              "      <th>Variable</th>\n",
              "      <th>Statistics</th>\n",
              "      <th>Distribution</th>\n",
              "    </tr>\n",
              "  </thead>\n",
              "  <tbody>\n",
              "    <tr>\n",
              "      <th>0</th>\n",
              "      <td>Normal</td>\n",
              "      <td>0.151 [0.185]</td>\n",
              "      <td>normal</td>\n",
              "    </tr>\n",
              "    <tr>\n",
              "      <th>1</th>\n",
              "      <td>Normal</td>\n",
              "      <td>0.186 [0.265]</td>\n",
              "      <td>normal</td>\n",
              "    </tr>\n",
              "    <tr>\n",
              "      <th>2</th>\n",
              "      <td>Normal</td>\n",
              "      <td>0.189 [0.258]</td>\n",
              "      <td>normal</td>\n",
              "    </tr>\n",
              "    <tr>\n",
              "      <th>3</th>\n",
              "      <td>Power</td>\n",
              "      <td>0.043 [-0.066, 0.155]</td>\n",
              "      <td>non-normal</td>\n",
              "    </tr>\n",
              "    <tr>\n",
              "      <th>4</th>\n",
              "      <td>Power</td>\n",
              "      <td>0.323 [0.329]</td>\n",
              "      <td>normal</td>\n",
              "    </tr>\n",
              "    <tr>\n",
              "      <th>5</th>\n",
              "      <td>Power</td>\n",
              "      <td>0.120 [0.221]</td>\n",
              "      <td>normal</td>\n",
              "    </tr>\n",
              "  </tbody>\n",
              "</table>\n",
              "</div>"
            ],
            "text/plain": [
              "  Variable             Statistics Distribution\n",
              "0   Normal          0.151 [0.185]       normal\n",
              "1   Normal          0.186 [0.265]       normal\n",
              "2   Normal          0.189 [0.258]       normal\n",
              "3    Power  0.043 [-0.066, 0.155]   non-normal\n",
              "4    Power          0.323 [0.329]       normal\n",
              "5    Power          0.120 [0.221]       normal"
            ]
          },
          "execution_count": 17,
          "metadata": {},
          "output_type": "execute_result"
        }
      ],
      "source": [
        "for i in range(m):\n",
        "    if sarr[i] == \"non-normal\":\n",
        "        median = np.median(my_dt.iloc[:, i])\n",
        "        quant1 = np.quantile(my_dt.iloc[:, i],  0.25)\n",
        "        quant2 = np.quantile(my_dt.iloc[:, i],  0.75)\n",
        "        my_df.Statistics[i] = \"%.3f [%.3f, %.3f]\" % (median, quant1, quant2)\n",
        "my_df"
      ]
    },
    {
      "cell_type": "markdown",
      "metadata": {
        "id": "f5q92XD0nJ6N"
      },
      "source": [
        "8. Зберегти таблицю в пдф форматі"
      ]
    },
    {
      "cell_type": "code",
      "execution_count": null,
      "metadata": {
        "id": "Kwksm0wvUYHq",
        "outputId": "decf8ab2-e52b-41e6-ccef-353c438b95ff"
      },
      "outputs": [
        {
          "data": {
            "image/png": "[encoded data removed]",
            "text/plain": [
              "<Figure size 720x360 with 1 Axes>"
            ]
          },
          "metadata": {
            "needs_background": "light"
          },
          "output_type": "display_data"
        }
      ],
      "source": [
        "fig, ax = plt.subplots(figsize = (10,5))\n",
        "text = []\n",
        "for row in range(len(my_df)):\n",
        "    text.append(my_df.iloc[row])\n",
        "ax.table(cellText = text, colLabels = my_df.columns, loc = 'center')\n",
        "ax.axis('off')\n",
        "pdf = matplotlib.backends.backend_pdf.PdfPages(\"lab4_Guivan.pdf\")\n",
        "pdf.savefig(fig)\n",
        "pdf.close()"
      ]
    },
    {
      "cell_type": "code",
      "execution_count": null,
      "metadata": {
        "id": "tAglhM7GUYHq"
      },
      "outputs": [],
      "source": []
    }
  ],
  "metadata": {
    "colab": {
      "provenance": [],
      "include_colab_link": true
    },
    "kernelspec": {
      "display_name": "Python 3 (ipykernel)",
      "language": "python",
      "name": "python3"
    },
    "language_info": {
      "codemirror_mode": {
        "name": "ipython",
        "version": 3
      },
      "file_extension": ".py",
      "mimetype": "text/x-python",
      "name": "python",
      "nbconvert_exporter": "python",
      "pygments_lexer": "ipython3",
      "version": "3.9.7"
    }
  },
  "nbformat": 4,
  "nbformat_minor": 0
}